{
 "cells": [
  {
   "cell_type": "markdown",
   "metadata": {},
   "source": [
    "# Реальные и фейковые предложения о работе."
   ]
  },
  {
   "cell_type": "markdown",
   "metadata": {},
   "source": [
    "Требуется на основе классификационной модели определить какие предложения настоящие, а какие нет.\n",
    "Данный датасет содержит пример 18000 запросов со следующими колонками:\n",
    "- job_id - уникальный идентификатор\n",
    "- title - общее название должности\n",
    "- location - географическое местоположение работы\n",
    "- department - отделение\n",
    "- salary_range - интервал зарплаты\n",
    "- company_profile - описание компании\n",
    "- description - описание работы\n",
    "- requirements - необходимые для работы требования\n",
    "- benefits - полезности для работника\n",
    "- telecommuting - удаленная или нет работа\n",
    "- has_company_logo - имеет ли компания лого\n",
    "- has_questions - есть ли проверочные вопросы\n",
    "- employment_type - вид занятости\n",
    "- required_experience - опыт работы\n",
    "- required_education - образование\n",
    "- industry - сфера деятельности\n",
    "- function - какие функции выполняет работник\n",
    "- fraudulent - реальная или фейковая работы"
   ]
  },
  {
   "cell_type": "code",
   "execution_count": 1,
   "metadata": {},
   "outputs": [],
   "source": [
    "import numpy as np              \n",
    "import matplotlib.pyplot as plt \n",
    "%matplotlib inline \n",
    "\n",
    "import pandas as pd            \n",
    "import seaborn as sns          \n",
    "import sklearn"
   ]
  },
  {
   "cell_type": "code",
   "execution_count": 2,
   "metadata": {},
   "outputs": [],
   "source": [
    "url = 'fake_job_postings.csv'\n",
    "data = pd.read_csv(url)"
   ]
  },
  {
   "cell_type": "code",
   "execution_count": 3,
   "metadata": {
    "scrolled": true
   },
   "outputs": [
    {
     "data": {
      "text/html": [
       "<div>\n",
       "<style scoped>\n",
       "    .dataframe tbody tr th:only-of-type {\n",
       "        vertical-align: middle;\n",
       "    }\n",
       "\n",
       "    .dataframe tbody tr th {\n",
       "        vertical-align: top;\n",
       "    }\n",
       "\n",
       "    .dataframe thead th {\n",
       "        text-align: right;\n",
       "    }\n",
       "</style>\n",
       "<table border=\"1\" class=\"dataframe\">\n",
       "  <thead>\n",
       "    <tr style=\"text-align: right;\">\n",
       "      <th></th>\n",
       "      <th>job_id</th>\n",
       "      <th>title</th>\n",
       "      <th>location</th>\n",
       "      <th>department</th>\n",
       "      <th>salary_range</th>\n",
       "      <th>company_profile</th>\n",
       "      <th>description</th>\n",
       "      <th>requirements</th>\n",
       "      <th>benefits</th>\n",
       "      <th>telecommuting</th>\n",
       "      <th>has_company_logo</th>\n",
       "      <th>has_questions</th>\n",
       "      <th>employment_type</th>\n",
       "      <th>required_experience</th>\n",
       "      <th>required_education</th>\n",
       "      <th>industry</th>\n",
       "      <th>function</th>\n",
       "      <th>fraudulent</th>\n",
       "    </tr>\n",
       "  </thead>\n",
       "  <tbody>\n",
       "    <tr>\n",
       "      <th>0</th>\n",
       "      <td>1</td>\n",
       "      <td>Marketing Intern</td>\n",
       "      <td>US, NY, New York</td>\n",
       "      <td>Marketing</td>\n",
       "      <td>NaN</td>\n",
       "      <td>We're Food52, and we've created a groundbreaki...</td>\n",
       "      <td>Food52, a fast-growing, James Beard Award-winn...</td>\n",
       "      <td>Experience with content management systems a m...</td>\n",
       "      <td>NaN</td>\n",
       "      <td>0</td>\n",
       "      <td>1</td>\n",
       "      <td>0</td>\n",
       "      <td>Other</td>\n",
       "      <td>Internship</td>\n",
       "      <td>NaN</td>\n",
       "      <td>NaN</td>\n",
       "      <td>Marketing</td>\n",
       "      <td>0</td>\n",
       "    </tr>\n",
       "    <tr>\n",
       "      <th>1</th>\n",
       "      <td>2</td>\n",
       "      <td>Customer Service - Cloud Video Production</td>\n",
       "      <td>NZ, , Auckland</td>\n",
       "      <td>Success</td>\n",
       "      <td>NaN</td>\n",
       "      <td>90 Seconds, the worlds Cloud Video Production ...</td>\n",
       "      <td>Organised - Focused - Vibrant - Awesome!Do you...</td>\n",
       "      <td>What we expect from you:Your key responsibilit...</td>\n",
       "      <td>What you will get from usThrough being part of...</td>\n",
       "      <td>0</td>\n",
       "      <td>1</td>\n",
       "      <td>0</td>\n",
       "      <td>Full-time</td>\n",
       "      <td>Not Applicable</td>\n",
       "      <td>NaN</td>\n",
       "      <td>Marketing and Advertising</td>\n",
       "      <td>Customer Service</td>\n",
       "      <td>0</td>\n",
       "    </tr>\n",
       "    <tr>\n",
       "      <th>2</th>\n",
       "      <td>3</td>\n",
       "      <td>Commissioning Machinery Assistant (CMA)</td>\n",
       "      <td>US, IA, Wever</td>\n",
       "      <td>NaN</td>\n",
       "      <td>NaN</td>\n",
       "      <td>Valor Services provides Workforce Solutions th...</td>\n",
       "      <td>Our client, located in Houston, is actively se...</td>\n",
       "      <td>Implement pre-commissioning and commissioning ...</td>\n",
       "      <td>NaN</td>\n",
       "      <td>0</td>\n",
       "      <td>1</td>\n",
       "      <td>0</td>\n",
       "      <td>NaN</td>\n",
       "      <td>NaN</td>\n",
       "      <td>NaN</td>\n",
       "      <td>NaN</td>\n",
       "      <td>NaN</td>\n",
       "      <td>0</td>\n",
       "    </tr>\n",
       "    <tr>\n",
       "      <th>3</th>\n",
       "      <td>4</td>\n",
       "      <td>Account Executive - Washington DC</td>\n",
       "      <td>US, DC, Washington</td>\n",
       "      <td>Sales</td>\n",
       "      <td>NaN</td>\n",
       "      <td>Our passion for improving quality of life thro...</td>\n",
       "      <td>THE COMPANY: ESRI – Environmental Systems Rese...</td>\n",
       "      <td>EDUCATION: Bachelor’s or Master’s in GIS, busi...</td>\n",
       "      <td>Our culture is anything but corporate—we have ...</td>\n",
       "      <td>0</td>\n",
       "      <td>1</td>\n",
       "      <td>0</td>\n",
       "      <td>Full-time</td>\n",
       "      <td>Mid-Senior level</td>\n",
       "      <td>Bachelor's Degree</td>\n",
       "      <td>Computer Software</td>\n",
       "      <td>Sales</td>\n",
       "      <td>0</td>\n",
       "    </tr>\n",
       "    <tr>\n",
       "      <th>4</th>\n",
       "      <td>5</td>\n",
       "      <td>Bill Review Manager</td>\n",
       "      <td>US, FL, Fort Worth</td>\n",
       "      <td>NaN</td>\n",
       "      <td>NaN</td>\n",
       "      <td>SpotSource Solutions LLC is a Global Human Cap...</td>\n",
       "      <td>JOB TITLE: Itemization Review ManagerLOCATION:...</td>\n",
       "      <td>QUALIFICATIONS:RN license in the State of Texa...</td>\n",
       "      <td>Full Benefits Offered</td>\n",
       "      <td>0</td>\n",
       "      <td>1</td>\n",
       "      <td>1</td>\n",
       "      <td>Full-time</td>\n",
       "      <td>Mid-Senior level</td>\n",
       "      <td>Bachelor's Degree</td>\n",
       "      <td>Hospital &amp; Health Care</td>\n",
       "      <td>Health Care Provider</td>\n",
       "      <td>0</td>\n",
       "    </tr>\n",
       "    <tr>\n",
       "      <th>...</th>\n",
       "      <td>...</td>\n",
       "      <td>...</td>\n",
       "      <td>...</td>\n",
       "      <td>...</td>\n",
       "      <td>...</td>\n",
       "      <td>...</td>\n",
       "      <td>...</td>\n",
       "      <td>...</td>\n",
       "      <td>...</td>\n",
       "      <td>...</td>\n",
       "      <td>...</td>\n",
       "      <td>...</td>\n",
       "      <td>...</td>\n",
       "      <td>...</td>\n",
       "      <td>...</td>\n",
       "      <td>...</td>\n",
       "      <td>...</td>\n",
       "      <td>...</td>\n",
       "    </tr>\n",
       "    <tr>\n",
       "      <th>17875</th>\n",
       "      <td>17876</td>\n",
       "      <td>Account Director - Distribution</td>\n",
       "      <td>CA, ON, Toronto</td>\n",
       "      <td>Sales</td>\n",
       "      <td>NaN</td>\n",
       "      <td>Vend is looking for some awesome new talent to...</td>\n",
       "      <td>Just in case this is the first time you’ve vis...</td>\n",
       "      <td>To ace this role you:Will eat comprehensive St...</td>\n",
       "      <td>What can you expect from us?We have an open cu...</td>\n",
       "      <td>0</td>\n",
       "      <td>1</td>\n",
       "      <td>1</td>\n",
       "      <td>Full-time</td>\n",
       "      <td>Mid-Senior level</td>\n",
       "      <td>NaN</td>\n",
       "      <td>Computer Software</td>\n",
       "      <td>Sales</td>\n",
       "      <td>0</td>\n",
       "    </tr>\n",
       "    <tr>\n",
       "      <th>17876</th>\n",
       "      <td>17877</td>\n",
       "      <td>Payroll Accountant</td>\n",
       "      <td>US, PA, Philadelphia</td>\n",
       "      <td>Accounting</td>\n",
       "      <td>NaN</td>\n",
       "      <td>WebLinc is the e-commerce platform and service...</td>\n",
       "      <td>The Payroll Accountant will focus primarily on...</td>\n",
       "      <td>- B.A. or B.S. in Accounting- Desire to have f...</td>\n",
       "      <td>Health &amp;amp; WellnessMedical planPrescription ...</td>\n",
       "      <td>0</td>\n",
       "      <td>1</td>\n",
       "      <td>1</td>\n",
       "      <td>Full-time</td>\n",
       "      <td>Mid-Senior level</td>\n",
       "      <td>Bachelor's Degree</td>\n",
       "      <td>Internet</td>\n",
       "      <td>Accounting/Auditing</td>\n",
       "      <td>0</td>\n",
       "    </tr>\n",
       "    <tr>\n",
       "      <th>17877</th>\n",
       "      <td>17878</td>\n",
       "      <td>Project Cost Control Staff Engineer - Cost Con...</td>\n",
       "      <td>US, TX, Houston</td>\n",
       "      <td>NaN</td>\n",
       "      <td>NaN</td>\n",
       "      <td>We Provide Full Time Permanent Positions for m...</td>\n",
       "      <td>Experienced Project Cost Control Staff Enginee...</td>\n",
       "      <td>At least 12 years professional experience.Abil...</td>\n",
       "      <td>NaN</td>\n",
       "      <td>0</td>\n",
       "      <td>0</td>\n",
       "      <td>0</td>\n",
       "      <td>Full-time</td>\n",
       "      <td>NaN</td>\n",
       "      <td>NaN</td>\n",
       "      <td>NaN</td>\n",
       "      <td>NaN</td>\n",
       "      <td>0</td>\n",
       "    </tr>\n",
       "    <tr>\n",
       "      <th>17878</th>\n",
       "      <td>17879</td>\n",
       "      <td>Graphic Designer</td>\n",
       "      <td>NG, LA, Lagos</td>\n",
       "      <td>NaN</td>\n",
       "      <td>NaN</td>\n",
       "      <td>NaN</td>\n",
       "      <td>Nemsia Studios is looking for an experienced v...</td>\n",
       "      <td>1. Must be fluent in the latest versions of Co...</td>\n",
       "      <td>Competitive salary (compensation will be based...</td>\n",
       "      <td>0</td>\n",
       "      <td>0</td>\n",
       "      <td>1</td>\n",
       "      <td>Contract</td>\n",
       "      <td>Not Applicable</td>\n",
       "      <td>Professional</td>\n",
       "      <td>Graphic Design</td>\n",
       "      <td>Design</td>\n",
       "      <td>0</td>\n",
       "    </tr>\n",
       "    <tr>\n",
       "      <th>17879</th>\n",
       "      <td>17880</td>\n",
       "      <td>Web Application Developers</td>\n",
       "      <td>NZ, N, Wellington</td>\n",
       "      <td>Engineering</td>\n",
       "      <td>NaN</td>\n",
       "      <td>Vend is looking for some awesome new talent to...</td>\n",
       "      <td>Who are we?Vend is an award winning web based ...</td>\n",
       "      <td>We want to hear from you if:You have an in-dep...</td>\n",
       "      <td>NaN</td>\n",
       "      <td>0</td>\n",
       "      <td>1</td>\n",
       "      <td>1</td>\n",
       "      <td>Full-time</td>\n",
       "      <td>Mid-Senior level</td>\n",
       "      <td>NaN</td>\n",
       "      <td>Computer Software</td>\n",
       "      <td>Engineering</td>\n",
       "      <td>0</td>\n",
       "    </tr>\n",
       "  </tbody>\n",
       "</table>\n",
       "<p>17880 rows × 18 columns</p>\n",
       "</div>"
      ],
      "text/plain": [
       "       job_id                                              title  \\\n",
       "0           1                                   Marketing Intern   \n",
       "1           2          Customer Service - Cloud Video Production   \n",
       "2           3            Commissioning Machinery Assistant (CMA)   \n",
       "3           4                  Account Executive - Washington DC   \n",
       "4           5                                Bill Review Manager   \n",
       "...       ...                                                ...   \n",
       "17875   17876                   Account Director - Distribution    \n",
       "17876   17877                                 Payroll Accountant   \n",
       "17877   17878  Project Cost Control Staff Engineer - Cost Con...   \n",
       "17878   17879                                   Graphic Designer   \n",
       "17879   17880                         Web Application Developers   \n",
       "\n",
       "                   location   department salary_range  \\\n",
       "0          US, NY, New York    Marketing          NaN   \n",
       "1            NZ, , Auckland      Success          NaN   \n",
       "2             US, IA, Wever          NaN          NaN   \n",
       "3        US, DC, Washington        Sales          NaN   \n",
       "4        US, FL, Fort Worth          NaN          NaN   \n",
       "...                     ...          ...          ...   \n",
       "17875       CA, ON, Toronto        Sales          NaN   \n",
       "17876  US, PA, Philadelphia   Accounting          NaN   \n",
       "17877       US, TX, Houston          NaN          NaN   \n",
       "17878         NG, LA, Lagos          NaN          NaN   \n",
       "17879     NZ, N, Wellington  Engineering          NaN   \n",
       "\n",
       "                                         company_profile  \\\n",
       "0      We're Food52, and we've created a groundbreaki...   \n",
       "1      90 Seconds, the worlds Cloud Video Production ...   \n",
       "2      Valor Services provides Workforce Solutions th...   \n",
       "3      Our passion for improving quality of life thro...   \n",
       "4      SpotSource Solutions LLC is a Global Human Cap...   \n",
       "...                                                  ...   \n",
       "17875  Vend is looking for some awesome new talent to...   \n",
       "17876  WebLinc is the e-commerce platform and service...   \n",
       "17877  We Provide Full Time Permanent Positions for m...   \n",
       "17878                                                NaN   \n",
       "17879  Vend is looking for some awesome new talent to...   \n",
       "\n",
       "                                             description  \\\n",
       "0      Food52, a fast-growing, James Beard Award-winn...   \n",
       "1      Organised - Focused - Vibrant - Awesome!Do you...   \n",
       "2      Our client, located in Houston, is actively se...   \n",
       "3      THE COMPANY: ESRI – Environmental Systems Rese...   \n",
       "4      JOB TITLE: Itemization Review ManagerLOCATION:...   \n",
       "...                                                  ...   \n",
       "17875  Just in case this is the first time you’ve vis...   \n",
       "17876  The Payroll Accountant will focus primarily on...   \n",
       "17877  Experienced Project Cost Control Staff Enginee...   \n",
       "17878  Nemsia Studios is looking for an experienced v...   \n",
       "17879  Who are we?Vend is an award winning web based ...   \n",
       "\n",
       "                                            requirements  \\\n",
       "0      Experience with content management systems a m...   \n",
       "1      What we expect from you:Your key responsibilit...   \n",
       "2      Implement pre-commissioning and commissioning ...   \n",
       "3      EDUCATION: Bachelor’s or Master’s in GIS, busi...   \n",
       "4      QUALIFICATIONS:RN license in the State of Texa...   \n",
       "...                                                  ...   \n",
       "17875  To ace this role you:Will eat comprehensive St...   \n",
       "17876  - B.A. or B.S. in Accounting- Desire to have f...   \n",
       "17877  At least 12 years professional experience.Abil...   \n",
       "17878  1. Must be fluent in the latest versions of Co...   \n",
       "17879  We want to hear from you if:You have an in-dep...   \n",
       "\n",
       "                                                benefits  telecommuting  \\\n",
       "0                                                    NaN              0   \n",
       "1      What you will get from usThrough being part of...              0   \n",
       "2                                                    NaN              0   \n",
       "3      Our culture is anything but corporate—we have ...              0   \n",
       "4                                  Full Benefits Offered              0   \n",
       "...                                                  ...            ...   \n",
       "17875  What can you expect from us?We have an open cu...              0   \n",
       "17876  Health &amp; WellnessMedical planPrescription ...              0   \n",
       "17877                                                NaN              0   \n",
       "17878  Competitive salary (compensation will be based...              0   \n",
       "17879                                                NaN              0   \n",
       "\n",
       "       has_company_logo  has_questions employment_type required_experience  \\\n",
       "0                     1              0           Other          Internship   \n",
       "1                     1              0       Full-time      Not Applicable   \n",
       "2                     1              0             NaN                 NaN   \n",
       "3                     1              0       Full-time    Mid-Senior level   \n",
       "4                     1              1       Full-time    Mid-Senior level   \n",
       "...                 ...            ...             ...                 ...   \n",
       "17875                 1              1       Full-time    Mid-Senior level   \n",
       "17876                 1              1       Full-time    Mid-Senior level   \n",
       "17877                 0              0       Full-time                 NaN   \n",
       "17878                 0              1        Contract      Not Applicable   \n",
       "17879                 1              1       Full-time    Mid-Senior level   \n",
       "\n",
       "      required_education                   industry              function  \\\n",
       "0                    NaN                        NaN             Marketing   \n",
       "1                    NaN  Marketing and Advertising      Customer Service   \n",
       "2                    NaN                        NaN                   NaN   \n",
       "3      Bachelor's Degree          Computer Software                 Sales   \n",
       "4      Bachelor's Degree     Hospital & Health Care  Health Care Provider   \n",
       "...                  ...                        ...                   ...   \n",
       "17875                NaN          Computer Software                 Sales   \n",
       "17876  Bachelor's Degree                   Internet   Accounting/Auditing   \n",
       "17877                NaN                        NaN                   NaN   \n",
       "17878       Professional             Graphic Design                Design   \n",
       "17879                NaN          Computer Software           Engineering   \n",
       "\n",
       "       fraudulent  \n",
       "0               0  \n",
       "1               0  \n",
       "2               0  \n",
       "3               0  \n",
       "4               0  \n",
       "...           ...  \n",
       "17875           0  \n",
       "17876           0  \n",
       "17877           0  \n",
       "17878           0  \n",
       "17879           0  \n",
       "\n",
       "[17880 rows x 18 columns]"
      ]
     },
     "execution_count": 3,
     "metadata": {},
     "output_type": "execute_result"
    }
   ],
   "source": [
    "data"
   ]
  },
  {
   "cell_type": "code",
   "execution_count": 4,
   "metadata": {},
   "outputs": [
    {
     "data": {
      "text/html": [
       "<div>\n",
       "<style scoped>\n",
       "    .dataframe tbody tr th:only-of-type {\n",
       "        vertical-align: middle;\n",
       "    }\n",
       "\n",
       "    .dataframe tbody tr th {\n",
       "        vertical-align: top;\n",
       "    }\n",
       "\n",
       "    .dataframe thead th {\n",
       "        text-align: right;\n",
       "    }\n",
       "</style>\n",
       "<table border=\"1\" class=\"dataframe\">\n",
       "  <thead>\n",
       "    <tr style=\"text-align: right;\">\n",
       "      <th></th>\n",
       "      <th>job_id</th>\n",
       "      <th>telecommuting</th>\n",
       "      <th>has_company_logo</th>\n",
       "      <th>has_questions</th>\n",
       "      <th>fraudulent</th>\n",
       "    </tr>\n",
       "  </thead>\n",
       "  <tbody>\n",
       "    <tr>\n",
       "      <th>count</th>\n",
       "      <td>17880.000000</td>\n",
       "      <td>17880.000000</td>\n",
       "      <td>17880.000000</td>\n",
       "      <td>17880.000000</td>\n",
       "      <td>17880.000000</td>\n",
       "    </tr>\n",
       "    <tr>\n",
       "      <th>mean</th>\n",
       "      <td>8940.500000</td>\n",
       "      <td>0.042897</td>\n",
       "      <td>0.795302</td>\n",
       "      <td>0.491723</td>\n",
       "      <td>0.048434</td>\n",
       "    </tr>\n",
       "    <tr>\n",
       "      <th>std</th>\n",
       "      <td>5161.655742</td>\n",
       "      <td>0.202631</td>\n",
       "      <td>0.403492</td>\n",
       "      <td>0.499945</td>\n",
       "      <td>0.214688</td>\n",
       "    </tr>\n",
       "    <tr>\n",
       "      <th>min</th>\n",
       "      <td>1.000000</td>\n",
       "      <td>0.000000</td>\n",
       "      <td>0.000000</td>\n",
       "      <td>0.000000</td>\n",
       "      <td>0.000000</td>\n",
       "    </tr>\n",
       "    <tr>\n",
       "      <th>25%</th>\n",
       "      <td>4470.750000</td>\n",
       "      <td>0.000000</td>\n",
       "      <td>1.000000</td>\n",
       "      <td>0.000000</td>\n",
       "      <td>0.000000</td>\n",
       "    </tr>\n",
       "    <tr>\n",
       "      <th>50%</th>\n",
       "      <td>8940.500000</td>\n",
       "      <td>0.000000</td>\n",
       "      <td>1.000000</td>\n",
       "      <td>0.000000</td>\n",
       "      <td>0.000000</td>\n",
       "    </tr>\n",
       "    <tr>\n",
       "      <th>75%</th>\n",
       "      <td>13410.250000</td>\n",
       "      <td>0.000000</td>\n",
       "      <td>1.000000</td>\n",
       "      <td>1.000000</td>\n",
       "      <td>0.000000</td>\n",
       "    </tr>\n",
       "    <tr>\n",
       "      <th>max</th>\n",
       "      <td>17880.000000</td>\n",
       "      <td>1.000000</td>\n",
       "      <td>1.000000</td>\n",
       "      <td>1.000000</td>\n",
       "      <td>1.000000</td>\n",
       "    </tr>\n",
       "  </tbody>\n",
       "</table>\n",
       "</div>"
      ],
      "text/plain": [
       "             job_id  telecommuting  has_company_logo  has_questions  \\\n",
       "count  17880.000000   17880.000000      17880.000000   17880.000000   \n",
       "mean    8940.500000       0.042897          0.795302       0.491723   \n",
       "std     5161.655742       0.202631          0.403492       0.499945   \n",
       "min        1.000000       0.000000          0.000000       0.000000   \n",
       "25%     4470.750000       0.000000          1.000000       0.000000   \n",
       "50%     8940.500000       0.000000          1.000000       0.000000   \n",
       "75%    13410.250000       0.000000          1.000000       1.000000   \n",
       "max    17880.000000       1.000000          1.000000       1.000000   \n",
       "\n",
       "         fraudulent  \n",
       "count  17880.000000  \n",
       "mean       0.048434  \n",
       "std        0.214688  \n",
       "min        0.000000  \n",
       "25%        0.000000  \n",
       "50%        0.000000  \n",
       "75%        0.000000  \n",
       "max        1.000000  "
      ]
     },
     "execution_count": 4,
     "metadata": {},
     "output_type": "execute_result"
    }
   ],
   "source": [
    "data_for_num = data.describe()\n",
    "data_for_num"
   ]
  },
  {
   "cell_type": "markdown",
   "metadata": {},
   "source": [
    "Здесь приведены основные характеристики количественных признаков."
   ]
  },
  {
   "cell_type": "code",
   "execution_count": 5,
   "metadata": {
    "scrolled": true
   },
   "outputs": [
    {
     "data": {
      "text/html": [
       "<div>\n",
       "<style scoped>\n",
       "    .dataframe tbody tr th:only-of-type {\n",
       "        vertical-align: middle;\n",
       "    }\n",
       "\n",
       "    .dataframe tbody tr th {\n",
       "        vertical-align: top;\n",
       "    }\n",
       "\n",
       "    .dataframe thead th {\n",
       "        text-align: right;\n",
       "    }\n",
       "</style>\n",
       "<table border=\"1\" class=\"dataframe\">\n",
       "  <thead>\n",
       "    <tr style=\"text-align: right;\">\n",
       "      <th></th>\n",
       "      <th>title</th>\n",
       "      <th>location</th>\n",
       "      <th>department</th>\n",
       "      <th>salary_range</th>\n",
       "      <th>company_profile</th>\n",
       "      <th>description</th>\n",
       "      <th>requirements</th>\n",
       "      <th>benefits</th>\n",
       "      <th>employment_type</th>\n",
       "      <th>required_experience</th>\n",
       "      <th>required_education</th>\n",
       "      <th>industry</th>\n",
       "      <th>function</th>\n",
       "    </tr>\n",
       "  </thead>\n",
       "  <tbody>\n",
       "    <tr>\n",
       "      <th>count</th>\n",
       "      <td>17880</td>\n",
       "      <td>17534</td>\n",
       "      <td>6333</td>\n",
       "      <td>2868</td>\n",
       "      <td>14572</td>\n",
       "      <td>17879</td>\n",
       "      <td>15185</td>\n",
       "      <td>10670</td>\n",
       "      <td>14409</td>\n",
       "      <td>10830</td>\n",
       "      <td>9775</td>\n",
       "      <td>12977</td>\n",
       "      <td>11425</td>\n",
       "    </tr>\n",
       "    <tr>\n",
       "      <th>unique</th>\n",
       "      <td>11231</td>\n",
       "      <td>3105</td>\n",
       "      <td>1337</td>\n",
       "      <td>874</td>\n",
       "      <td>1709</td>\n",
       "      <td>14801</td>\n",
       "      <td>11968</td>\n",
       "      <td>6205</td>\n",
       "      <td>5</td>\n",
       "      <td>7</td>\n",
       "      <td>13</td>\n",
       "      <td>131</td>\n",
       "      <td>37</td>\n",
       "    </tr>\n",
       "    <tr>\n",
       "      <th>top</th>\n",
       "      <td>English Teacher Abroad</td>\n",
       "      <td>GB, LND, London</td>\n",
       "      <td>Sales</td>\n",
       "      <td>0-0</td>\n",
       "      <td>We help teachers get safe &amp;amp; secure jobs ab...</td>\n",
       "      <td>Play with kids, get paid for it Love travel? J...</td>\n",
       "      <td>University degree required. TEFL / TESOL / CEL...</td>\n",
       "      <td>See job description</td>\n",
       "      <td>Full-time</td>\n",
       "      <td>Mid-Senior level</td>\n",
       "      <td>Bachelor's Degree</td>\n",
       "      <td>Information Technology and Services</td>\n",
       "      <td>Information Technology</td>\n",
       "    </tr>\n",
       "    <tr>\n",
       "      <th>freq</th>\n",
       "      <td>311</td>\n",
       "      <td>718</td>\n",
       "      <td>551</td>\n",
       "      <td>142</td>\n",
       "      <td>726</td>\n",
       "      <td>379</td>\n",
       "      <td>410</td>\n",
       "      <td>726</td>\n",
       "      <td>11620</td>\n",
       "      <td>3809</td>\n",
       "      <td>5145</td>\n",
       "      <td>1734</td>\n",
       "      <td>1749</td>\n",
       "    </tr>\n",
       "  </tbody>\n",
       "</table>\n",
       "</div>"
      ],
      "text/plain": [
       "                          title         location department salary_range  \\\n",
       "count                     17880            17534       6333         2868   \n",
       "unique                    11231             3105       1337          874   \n",
       "top     English Teacher Abroad   GB, LND, London      Sales          0-0   \n",
       "freq                        311              718        551          142   \n",
       "\n",
       "                                          company_profile  \\\n",
       "count                                               14572   \n",
       "unique                                               1709   \n",
       "top     We help teachers get safe &amp; secure jobs ab...   \n",
       "freq                                                  726   \n",
       "\n",
       "                                              description  \\\n",
       "count                                               17879   \n",
       "unique                                              14801   \n",
       "top     Play with kids, get paid for it Love travel? J...   \n",
       "freq                                                  379   \n",
       "\n",
       "                                             requirements  \\\n",
       "count                                               15185   \n",
       "unique                                              11968   \n",
       "top     University degree required. TEFL / TESOL / CEL...   \n",
       "freq                                                  410   \n",
       "\n",
       "                   benefits employment_type required_experience  \\\n",
       "count                 10670           14409               10830   \n",
       "unique                 6205               5                   7   \n",
       "top     See job description       Full-time    Mid-Senior level   \n",
       "freq                    726           11620                3809   \n",
       "\n",
       "       required_education                             industry  \\\n",
       "count                9775                                12977   \n",
       "unique                 13                                  131   \n",
       "top     Bachelor's Degree  Information Technology and Services   \n",
       "freq                 5145                                 1734   \n",
       "\n",
       "                      function  \n",
       "count                    11425  \n",
       "unique                      37  \n",
       "top     Information Technology  \n",
       "freq                      1749  "
      ]
     },
     "execution_count": 5,
     "metadata": {},
     "output_type": "execute_result"
    }
   ],
   "source": [
    "data_for_cat = data.describe(include=['object'])\n",
    "data_for_cat"
   ]
  },
  {
   "cell_type": "code",
   "execution_count": 6,
   "metadata": {},
   "outputs": [
    {
     "name": "stdout",
     "output_type": "stream",
     "text": [
      "(17880, 18)\n"
     ]
    }
   ],
   "source": [
    "print(data.shape)"
   ]
  },
  {
   "cell_type": "markdown",
   "metadata": {},
   "source": [
    "Здесь приведены описательные характеристики категориальных признаков. Например top - часто встречающееся слово."
   ]
  },
  {
   "cell_type": "code",
   "execution_count": 7,
   "metadata": {},
   "outputs": [
    {
     "data": {
      "image/png": "[encoded data removed]",
      "text/plain": [
       "<Figure size 720x720 with 25 Axes>"
      ]
     },
     "metadata": {
      "needs_background": "light"
     },
     "output_type": "display_data"
    }
   ],
   "source": [
    "from pandas.plotting import scatter_matrix\n",
    "scatter_matrix(data, alpha = .01, figsize = (10, 10))\n",
    "pass"
   ]
  },
  {
   "cell_type": "code",
   "execution_count": 8,
   "metadata": {},
   "outputs": [
    {
     "data": {
      "image/png": "[encoded data removed]",
      "text/plain": [
       "<Figure size 720x720 with 2 Axes>"
      ]
     },
     "metadata": {
      "needs_background": "light"
     },
     "output_type": "display_data"
    }
   ],
   "source": [
    "plt.figure(figsize = (10,10))\n",
    "corr = data.corr()\n",
    "sns.heatmap(corr , mask=np.zeros_like(corr, dtype=bool) , cmap=sns.diverging_palette(-100,0,as_cmap=True) , square = True, vmin = -1, vmax = 1)\n",
    "pass"
   ]
  },
  {
   "cell_type": "markdown",
   "metadata": {},
   "source": [
    "Выше приведены матрица разбросов и матрица корреляций. Выбросов как таковых нет, так как большинство количественных признаков принимают только два значения 0 и 1. Также ни один из признаков сильно не коррелируют."
   ]
  },
  {
   "cell_type": "code",
   "execution_count": 10,
   "metadata": {},
   "outputs": [
    {
     "name": "stderr",
     "output_type": "stream",
     "text": [
      "No handles with labels found to put in legend.\n"
     ]
    },
    {
     "data": {
      "image/png": "[encoded data removed]",
      "text/plain": [
       "<Figure size 780.25x720 with 20 Axes>"
      ]
     },
     "metadata": {
      "needs_background": "light"
     },
     "output_type": "display_data"
    }
   ],
   "source": [
    "sns.pairplot(data = data, hue='fraudulent', diag_kind='hist')\n",
    "plt.legend()\n",
    "pass"
   ]
  },
  {
   "cell_type": "code",
   "execution_count": 9,
   "metadata": {},
   "outputs": [
    {
     "data": {
      "image/png": "[encoded data removed]",
      "text/plain": [
       "<Figure size 432x288 with 1 Axes>"
      ]
     },
     "metadata": {},
     "output_type": "display_data"
    }
   ],
   "source": [
    "plt.pie(data.fraudulent.value_counts(), labels = ['Real jobs', 'Fake jobs'], autopct = '%1.0f%%', radius = 1)\n",
    "plt.title('Real or Fake jobs')\n",
    "pass"
   ]
  },
  {
   "cell_type": "code",
   "execution_count": 13,
   "metadata": {},
   "outputs": [
    {
     "data": {
      "text/plain": [
       "job_id                     0\n",
       "title                      0\n",
       "location                 346\n",
       "department             11547\n",
       "salary_range           15012\n",
       "company_profile         3308\n",
       "description                1\n",
       "requirements            2695\n",
       "benefits                7210\n",
       "telecommuting              0\n",
       "has_company_logo           0\n",
       "has_questions              0\n",
       "employment_type         3471\n",
       "required_experience     7050\n",
       "required_education      8105\n",
       "industry                4903\n",
       "function                6455\n",
       "fraudulent                 0\n",
       "dtype: int64"
      ]
     },
     "execution_count": 13,
     "metadata": {},
     "output_type": "execute_result"
    }
   ],
   "source": [
    "data.isnull().sum() # поиск пропущенных значений"
   ]
  },
  {
   "cell_type": "code",
   "execution_count": 14,
   "metadata": {},
   "outputs": [
    {
     "data": {
      "text/html": [
       "<div>\n",
       "<style scoped>\n",
       "    .dataframe tbody tr th:only-of-type {\n",
       "        vertical-align: middle;\n",
       "    }\n",
       "\n",
       "    .dataframe tbody tr th {\n",
       "        vertical-align: top;\n",
       "    }\n",
       "\n",
       "    .dataframe thead th {\n",
       "        text-align: right;\n",
       "    }\n",
       "</style>\n",
       "<table border=\"1\" class=\"dataframe\">\n",
       "  <thead>\n",
       "    <tr style=\"text-align: right;\">\n",
       "      <th></th>\n",
       "      <th>job_id</th>\n",
       "      <th>telecommuting</th>\n",
       "      <th>has_company_logo</th>\n",
       "      <th>has_questions</th>\n",
       "      <th>fraudulent</th>\n",
       "    </tr>\n",
       "  </thead>\n",
       "  <tbody>\n",
       "    <tr>\n",
       "      <th>job_id</th>\n",
       "      <td>1.000000</td>\n",
       "      <td>-0.004559</td>\n",
       "      <td>-0.014539</td>\n",
       "      <td>-0.087025</td>\n",
       "      <td>0.079872</td>\n",
       "    </tr>\n",
       "    <tr>\n",
       "      <th>telecommuting</th>\n",
       "      <td>-0.004559</td>\n",
       "      <td>1.000000</td>\n",
       "      <td>-0.019836</td>\n",
       "      <td>0.020345</td>\n",
       "      <td>0.034523</td>\n",
       "    </tr>\n",
       "    <tr>\n",
       "      <th>has_company_logo</th>\n",
       "      <td>-0.014539</td>\n",
       "      <td>-0.019836</td>\n",
       "      <td>1.000000</td>\n",
       "      <td>0.233932</td>\n",
       "      <td>-0.261971</td>\n",
       "    </tr>\n",
       "    <tr>\n",
       "      <th>has_questions</th>\n",
       "      <td>-0.087025</td>\n",
       "      <td>0.020345</td>\n",
       "      <td>0.233932</td>\n",
       "      <td>1.000000</td>\n",
       "      <td>-0.091627</td>\n",
       "    </tr>\n",
       "    <tr>\n",
       "      <th>fraudulent</th>\n",
       "      <td>0.079872</td>\n",
       "      <td>0.034523</td>\n",
       "      <td>-0.261971</td>\n",
       "      <td>-0.091627</td>\n",
       "      <td>1.000000</td>\n",
       "    </tr>\n",
       "  </tbody>\n",
       "</table>\n",
       "</div>"
      ],
      "text/plain": [
       "                    job_id  telecommuting  has_company_logo  has_questions  \\\n",
       "job_id            1.000000      -0.004559         -0.014539      -0.087025   \n",
       "telecommuting    -0.004559       1.000000         -0.019836       0.020345   \n",
       "has_company_logo -0.014539      -0.019836          1.000000       0.233932   \n",
       "has_questions    -0.087025       0.020345          0.233932       1.000000   \n",
       "fraudulent        0.079872       0.034523         -0.261971      -0.091627   \n",
       "\n",
       "                  fraudulent  \n",
       "job_id              0.079872  \n",
       "telecommuting       0.034523  \n",
       "has_company_logo   -0.261971  \n",
       "has_questions      -0.091627  \n",
       "fraudulent          1.000000  "
      ]
     },
     "execution_count": 14,
     "metadata": {},
     "output_type": "execute_result"
    }
   ],
   "source": [
    "data.corr()"
   ]
  },
  {
   "cell_type": "markdown",
   "metadata": {},
   "source": [
    "Если коэффициент корреляции равен 0 то, это говорит об отсутствии корреляционных связей между переменными. Причем если коэффициент корреляции ближе к 1 (или -1) то говорится о сильной корреляции, а если ближе к 0, то о слабой.\n",
    "\n"
   ]
  },
  {
   "cell_type": "markdown",
   "metadata": {},
   "source": [
    "# Обработка пропущенных значений"
   ]
  },
  {
   "cell_type": "markdown",
   "metadata": {},
   "source": [
    "Как видно из таблицы, в данной таблице присутствуют пропущенные значения. Заменим таковые их средними значениями для количественных признаков и самым повторяющимся значением для категориальных."
   ]
  },
  {
   "cell_type": "code",
   "execution_count": 15,
   "metadata": {},
   "outputs": [
    {
     "name": "stdout",
     "output_type": "stream",
     "text": [
      "['title', 'location', 'department', 'salary_range', 'company_profile', 'description', 'requirements', 'benefits', 'employment_type', 'required_experience', 'required_education', 'industry', 'function']\n"
     ]
    }
   ],
   "source": [
    "categorical_columns = [c for c in data.columns if data[c].dtype.name == 'object']\n",
    "print(categorical_columns)"
   ]
  },
  {
   "cell_type": "code",
   "execution_count": 16,
   "metadata": {},
   "outputs": [],
   "source": [
    "for c in categorical_columns:\n",
    "    data[c] = data[c].fillna(data_for_cat[c]['top'])"
   ]
  },
  {
   "cell_type": "code",
   "execution_count": 17,
   "metadata": {},
   "outputs": [
    {
     "data": {
      "text/plain": [
       "job_id                 0\n",
       "title                  0\n",
       "location               0\n",
       "department             0\n",
       "salary_range           0\n",
       "company_profile        0\n",
       "description            0\n",
       "requirements           0\n",
       "benefits               0\n",
       "telecommuting          0\n",
       "has_company_logo       0\n",
       "has_questions          0\n",
       "employment_type        0\n",
       "required_experience    0\n",
       "required_education     0\n",
       "industry               0\n",
       "function               0\n",
       "fraudulent             0\n",
       "dtype: int64"
      ]
     },
     "execution_count": 17,
     "metadata": {},
     "output_type": "execute_result"
    }
   ],
   "source": [
    "data.isnull().sum()"
   ]
  },
  {
   "cell_type": "markdown",
   "metadata": {},
   "source": [
    "Так как пропущенные значения были только у категориальных признаков, то после замены пропущенных значений на самое распространенное, таблица с выводом пропущенных значений не обнаружила их, а значит мы провели успешную обработку."
   ]
  },
  {
   "cell_type": "markdown",
   "metadata": {},
   "source": [
    "# Несбалансированность классов\n",
    "\n",
    "Как видно из датасета, количество настоящих предложений о работе сильно больше, чем фейковых. А именно"
   ]
  },
  {
   "cell_type": "code",
   "execution_count": 18,
   "metadata": {},
   "outputs": [
    {
     "data": {
      "image/png": "[encoded data removed]",
      "text/plain": [
       "<Figure size 432x288 with 1 Axes>"
      ]
     },
     "metadata": {
      "needs_background": "light"
     },
     "output_type": "display_data"
    }
   ],
   "source": [
    "sns.countplot(x='fraudulent', data=data)\n",
    "pass"
   ]
  },
  {
   "cell_type": "markdown",
   "metadata": {},
   "source": [
    "Для того, чтобы сбалансировать классы, нужно убрать строки с настоящими предложениями о работе. Но так как данных тогда останется очень мало, чтобы на них разбивать выборку. Я убрала 15 тыс строк, и тогда балансированность двух классов стала такой:"
   ]
  },
  {
   "cell_type": "code",
   "execution_count": 19,
   "metadata": {},
   "outputs": [
    {
     "data": {
      "text/html": [
       "<div>\n",
       "<style scoped>\n",
       "    .dataframe tbody tr th:only-of-type {\n",
       "        vertical-align: middle;\n",
       "    }\n",
       "\n",
       "    .dataframe tbody tr th {\n",
       "        vertical-align: top;\n",
       "    }\n",
       "\n",
       "    .dataframe thead th {\n",
       "        text-align: right;\n",
       "    }\n",
       "</style>\n",
       "<table border=\"1\" class=\"dataframe\">\n",
       "  <thead>\n",
       "    <tr style=\"text-align: right;\">\n",
       "      <th></th>\n",
       "      <th>job_id</th>\n",
       "      <th>title</th>\n",
       "      <th>location</th>\n",
       "      <th>department</th>\n",
       "      <th>salary_range</th>\n",
       "      <th>company_profile</th>\n",
       "      <th>description</th>\n",
       "      <th>requirements</th>\n",
       "      <th>benefits</th>\n",
       "      <th>telecommuting</th>\n",
       "      <th>has_company_logo</th>\n",
       "      <th>has_questions</th>\n",
       "      <th>employment_type</th>\n",
       "      <th>required_experience</th>\n",
       "      <th>required_education</th>\n",
       "      <th>industry</th>\n",
       "      <th>function</th>\n",
       "      <th>fraudulent</th>\n",
       "    </tr>\n",
       "  </thead>\n",
       "  <tbody>\n",
       "    <tr>\n",
       "      <th>16</th>\n",
       "      <td>17</td>\n",
       "      <td>Hands-On QA Leader</td>\n",
       "      <td>IL, , Tel Aviv, Israel</td>\n",
       "      <td>R&amp;D</td>\n",
       "      <td>0-0</td>\n",
       "      <td>At HoneyBook we’re re-imagining the events ind...</td>\n",
       "      <td>We are looking for a Hands-On QA Leader for ou...</td>\n",
       "      <td>Previous experience in client &amp;amp; server tes...</td>\n",
       "      <td>See job description</td>\n",
       "      <td>0</td>\n",
       "      <td>1</td>\n",
       "      <td>0</td>\n",
       "      <td>Full-time</td>\n",
       "      <td>Mid-Senior level</td>\n",
       "      <td>Bachelor's Degree</td>\n",
       "      <td>Internet</td>\n",
       "      <td>Engineering</td>\n",
       "      <td>0</td>\n",
       "    </tr>\n",
       "    <tr>\n",
       "      <th>36</th>\n",
       "      <td>37</td>\n",
       "      <td>Graduates: English Teacher Abroad</td>\n",
       "      <td>US, NY, Yonkers</td>\n",
       "      <td>Sales</td>\n",
       "      <td>0-0</td>\n",
       "      <td>We help teachers get safe &amp;amp; secure jobs ab...</td>\n",
       "      <td>Play with kids, get paid for it :-)Love travel...</td>\n",
       "      <td>University degree required. TEFL / TESOL / CEL...</td>\n",
       "      <td>See job description</td>\n",
       "      <td>0</td>\n",
       "      <td>1</td>\n",
       "      <td>0</td>\n",
       "      <td>Contract</td>\n",
       "      <td>Mid-Senior level</td>\n",
       "      <td>Bachelor's Degree</td>\n",
       "      <td>Education Management</td>\n",
       "      <td>Information Technology</td>\n",
       "      <td>0</td>\n",
       "    </tr>\n",
       "    <tr>\n",
       "      <th>53</th>\n",
       "      <td>54</td>\n",
       "      <td>Technical Project Manager</td>\n",
       "      <td>US, NY, New York City</td>\n",
       "      <td>Sales</td>\n",
       "      <td>0-0</td>\n",
       "      <td>We help teachers get safe &amp;amp; secure jobs ab...</td>\n",
       "      <td>GBI is a growing company developing several cu...</td>\n",
       "      <td>Must have excellent oral and written communica...</td>\n",
       "      <td>Experience with CRM, such as SugarCRM.Past emp...</td>\n",
       "      <td>0</td>\n",
       "      <td>0</td>\n",
       "      <td>0</td>\n",
       "      <td>Full-time</td>\n",
       "      <td>Associate</td>\n",
       "      <td>Bachelor's Degree</td>\n",
       "      <td>Financial Services</td>\n",
       "      <td>Information Technology</td>\n",
       "      <td>0</td>\n",
       "    </tr>\n",
       "    <tr>\n",
       "      <th>59</th>\n",
       "      <td>60</td>\n",
       "      <td>Product Visual Designer</td>\n",
       "      <td>US, CA, San Francisco</td>\n",
       "      <td>Sales</td>\n",
       "      <td>0-0</td>\n",
       "      <td>From the lands of Can Do, Roll Our Sleeves Up ...</td>\n",
       "      <td>Apcera is revolutionizing enterprise technolog...</td>\n",
       "      <td>RESPONSIBILITIES:Work with the UX architect's ...</td>\n",
       "      <td>Competitive salary &amp;amp; equityGreat location ...</td>\n",
       "      <td>0</td>\n",
       "      <td>1</td>\n",
       "      <td>1</td>\n",
       "      <td>Full-time</td>\n",
       "      <td>Not Applicable</td>\n",
       "      <td>Unspecified</td>\n",
       "      <td>Information Technology and Services</td>\n",
       "      <td>Design</td>\n",
       "      <td>0</td>\n",
       "    </tr>\n",
       "    <tr>\n",
       "      <th>61</th>\n",
       "      <td>62</td>\n",
       "      <td>Bulk Ingredient Unloader</td>\n",
       "      <td>US, IA, Cedar Rapids</td>\n",
       "      <td>General Services</td>\n",
       "      <td>0-0</td>\n",
       "      <td>Red Star Yeast Company LLC (RSYC), a leader in...</td>\n",
       "      <td>The primary function of this position is to pe...</td>\n",
       "      <td>Must be able to understand and follow the flow...</td>\n",
       "      <td>Benefit, Compensation and Shift Schedule Detai...</td>\n",
       "      <td>0</td>\n",
       "      <td>1</td>\n",
       "      <td>1</td>\n",
       "      <td>Full-time</td>\n",
       "      <td>Entry level</td>\n",
       "      <td>High School or equivalent</td>\n",
       "      <td>Food Production</td>\n",
       "      <td>Supply Chain</td>\n",
       "      <td>0</td>\n",
       "    </tr>\n",
       "    <tr>\n",
       "      <th>...</th>\n",
       "      <td>...</td>\n",
       "      <td>...</td>\n",
       "      <td>...</td>\n",
       "      <td>...</td>\n",
       "      <td>...</td>\n",
       "      <td>...</td>\n",
       "      <td>...</td>\n",
       "      <td>...</td>\n",
       "      <td>...</td>\n",
       "      <td>...</td>\n",
       "      <td>...</td>\n",
       "      <td>...</td>\n",
       "      <td>...</td>\n",
       "      <td>...</td>\n",
       "      <td>...</td>\n",
       "      <td>...</td>\n",
       "      <td>...</td>\n",
       "      <td>...</td>\n",
       "    </tr>\n",
       "    <tr>\n",
       "      <th>17860</th>\n",
       "      <td>17861</td>\n",
       "      <td>Sr. SQL Server DBA</td>\n",
       "      <td>US, CA, Bay Area</td>\n",
       "      <td>Sales</td>\n",
       "      <td>0-0</td>\n",
       "      <td>We help teachers get safe &amp;amp; secure jobs ab...</td>\n",
       "      <td>Position: Sr. SQL Server DBALocation: Bay Area...</td>\n",
       "      <td>Provide 24x7 on-call support</td>\n",
       "      <td>See job description</td>\n",
       "      <td>0</td>\n",
       "      <td>1</td>\n",
       "      <td>0</td>\n",
       "      <td>Contract</td>\n",
       "      <td>Mid-Senior level</td>\n",
       "      <td>Unspecified</td>\n",
       "      <td>Information Technology and Services</td>\n",
       "      <td>Information Technology</td>\n",
       "      <td>0</td>\n",
       "    </tr>\n",
       "    <tr>\n",
       "      <th>17864</th>\n",
       "      <td>17865</td>\n",
       "      <td>Next Generation Depth Sensing</td>\n",
       "      <td>US, MA, Cambridge</td>\n",
       "      <td>MM</td>\n",
       "      <td>0-0</td>\n",
       "      <td>MERL's internship program gives students excel...</td>\n",
       "      <td>MERL is looking for a well qualified individua...</td>\n",
       "      <td>University degree required. TEFL / TESOL / CEL...</td>\n",
       "      <td>See job description</td>\n",
       "      <td>0</td>\n",
       "      <td>1</td>\n",
       "      <td>1</td>\n",
       "      <td>Full-time</td>\n",
       "      <td>Mid-Senior level</td>\n",
       "      <td>Bachelor's Degree</td>\n",
       "      <td>Information Technology and Services</td>\n",
       "      <td>Information Technology</td>\n",
       "      <td>0</td>\n",
       "    </tr>\n",
       "    <tr>\n",
       "      <th>17869</th>\n",
       "      <td>17870</td>\n",
       "      <td>Sr Technical Lead LIMS</td>\n",
       "      <td>US, DE, Wilmington</td>\n",
       "      <td>Sales</td>\n",
       "      <td>0-0</td>\n",
       "      <td>We help teachers get safe &amp;amp; secure jobs ab...</td>\n",
       "      <td>Job Title:  Sr Technical LeadSalary: OpenDurat...</td>\n",
       "      <td>Responsibilities: He should be extensive knowl...</td>\n",
       "      <td>See job description</td>\n",
       "      <td>0</td>\n",
       "      <td>0</td>\n",
       "      <td>0</td>\n",
       "      <td>Full-time</td>\n",
       "      <td>Mid-Senior level</td>\n",
       "      <td>Bachelor's Degree</td>\n",
       "      <td>Pharmaceuticals</td>\n",
       "      <td>Information Technology</td>\n",
       "      <td>0</td>\n",
       "    </tr>\n",
       "    <tr>\n",
       "      <th>17875</th>\n",
       "      <td>17876</td>\n",
       "      <td>Account Director - Distribution</td>\n",
       "      <td>CA, ON, Toronto</td>\n",
       "      <td>Sales</td>\n",
       "      <td>0-0</td>\n",
       "      <td>Vend is looking for some awesome new talent to...</td>\n",
       "      <td>Just in case this is the first time you’ve vis...</td>\n",
       "      <td>To ace this role you:Will eat comprehensive St...</td>\n",
       "      <td>What can you expect from us?We have an open cu...</td>\n",
       "      <td>0</td>\n",
       "      <td>1</td>\n",
       "      <td>1</td>\n",
       "      <td>Full-time</td>\n",
       "      <td>Mid-Senior level</td>\n",
       "      <td>Bachelor's Degree</td>\n",
       "      <td>Computer Software</td>\n",
       "      <td>Sales</td>\n",
       "      <td>0</td>\n",
       "    </tr>\n",
       "    <tr>\n",
       "      <th>17879</th>\n",
       "      <td>17880</td>\n",
       "      <td>Web Application Developers</td>\n",
       "      <td>NZ, N, Wellington</td>\n",
       "      <td>Engineering</td>\n",
       "      <td>0-0</td>\n",
       "      <td>Vend is looking for some awesome new talent to...</td>\n",
       "      <td>Who are we?Vend is an award winning web based ...</td>\n",
       "      <td>We want to hear from you if:You have an in-dep...</td>\n",
       "      <td>See job description</td>\n",
       "      <td>0</td>\n",
       "      <td>1</td>\n",
       "      <td>1</td>\n",
       "      <td>Full-time</td>\n",
       "      <td>Mid-Senior level</td>\n",
       "      <td>Bachelor's Degree</td>\n",
       "      <td>Computer Software</td>\n",
       "      <td>Engineering</td>\n",
       "      <td>0</td>\n",
       "    </tr>\n",
       "  </tbody>\n",
       "</table>\n",
       "<p>2880 rows × 18 columns</p>\n",
       "</div>"
      ],
      "text/plain": [
       "       job_id                               title                location  \\\n",
       "16         17                 Hands-On QA Leader   IL, , Tel Aviv, Israel   \n",
       "36         37  Graduates: English Teacher Abroad          US, NY, Yonkers   \n",
       "53         54           Technical Project Manager   US, NY, New York City   \n",
       "59         60             Product Visual Designer   US, CA, San Francisco   \n",
       "61         62            Bulk Ingredient Unloader    US, IA, Cedar Rapids   \n",
       "...       ...                                 ...                     ...   \n",
       "17860   17861                  Sr. SQL Server DBA        US, CA, Bay Area   \n",
       "17864   17865       Next Generation Depth Sensing       US, MA, Cambridge   \n",
       "17869   17870              Sr Technical Lead LIMS      US, DE, Wilmington   \n",
       "17875   17876    Account Director - Distribution          CA, ON, Toronto   \n",
       "17879   17880          Web Application Developers       NZ, N, Wellington   \n",
       "\n",
       "             department salary_range  \\\n",
       "16                  R&D          0-0   \n",
       "36                Sales          0-0   \n",
       "53                Sales          0-0   \n",
       "59                Sales          0-0   \n",
       "61     General Services          0-0   \n",
       "...                 ...          ...   \n",
       "17860             Sales          0-0   \n",
       "17864                MM          0-0   \n",
       "17869             Sales          0-0   \n",
       "17875             Sales          0-0   \n",
       "17879       Engineering          0-0   \n",
       "\n",
       "                                         company_profile  \\\n",
       "16     At HoneyBook we’re re-imagining the events ind...   \n",
       "36     We help teachers get safe &amp; secure jobs ab...   \n",
       "53     We help teachers get safe &amp; secure jobs ab...   \n",
       "59     From the lands of Can Do, Roll Our Sleeves Up ...   \n",
       "61     Red Star Yeast Company LLC (RSYC), a leader in...   \n",
       "...                                                  ...   \n",
       "17860  We help teachers get safe &amp; secure jobs ab...   \n",
       "17864  MERL's internship program gives students excel...   \n",
       "17869  We help teachers get safe &amp; secure jobs ab...   \n",
       "17875  Vend is looking for some awesome new talent to...   \n",
       "17879  Vend is looking for some awesome new talent to...   \n",
       "\n",
       "                                             description  \\\n",
       "16     We are looking for a Hands-On QA Leader for ou...   \n",
       "36     Play with kids, get paid for it :-)Love travel...   \n",
       "53     GBI is a growing company developing several cu...   \n",
       "59     Apcera is revolutionizing enterprise technolog...   \n",
       "61     The primary function of this position is to pe...   \n",
       "...                                                  ...   \n",
       "17860  Position: Sr. SQL Server DBALocation: Bay Area...   \n",
       "17864  MERL is looking for a well qualified individua...   \n",
       "17869  Job Title:  Sr Technical LeadSalary: OpenDurat...   \n",
       "17875  Just in case this is the first time you’ve vis...   \n",
       "17879  Who are we?Vend is an award winning web based ...   \n",
       "\n",
       "                                            requirements  \\\n",
       "16     Previous experience in client &amp; server tes...   \n",
       "36     University degree required. TEFL / TESOL / CEL...   \n",
       "53     Must have excellent oral and written communica...   \n",
       "59     RESPONSIBILITIES:Work with the UX architect's ...   \n",
       "61     Must be able to understand and follow the flow...   \n",
       "...                                                  ...   \n",
       "17860                       Provide 24x7 on-call support   \n",
       "17864  University degree required. TEFL / TESOL / CEL...   \n",
       "17869  Responsibilities: He should be extensive knowl...   \n",
       "17875  To ace this role you:Will eat comprehensive St...   \n",
       "17879  We want to hear from you if:You have an in-dep...   \n",
       "\n",
       "                                                benefits  telecommuting  \\\n",
       "16                                   See job description              0   \n",
       "36                                   See job description              0   \n",
       "53     Experience with CRM, such as SugarCRM.Past emp...              0   \n",
       "59     Competitive salary &amp; equityGreat location ...              0   \n",
       "61     Benefit, Compensation and Shift Schedule Detai...              0   \n",
       "...                                                  ...            ...   \n",
       "17860                                See job description              0   \n",
       "17864                                See job description              0   \n",
       "17869                                See job description              0   \n",
       "17875  What can you expect from us?We have an open cu...              0   \n",
       "17879                                See job description              0   \n",
       "\n",
       "       has_company_logo  has_questions employment_type required_experience  \\\n",
       "16                    1              0       Full-time    Mid-Senior level   \n",
       "36                    1              0        Contract    Mid-Senior level   \n",
       "53                    0              0       Full-time           Associate   \n",
       "59                    1              1       Full-time      Not Applicable   \n",
       "61                    1              1       Full-time         Entry level   \n",
       "...                 ...            ...             ...                 ...   \n",
       "17860                 1              0        Contract    Mid-Senior level   \n",
       "17864                 1              1       Full-time    Mid-Senior level   \n",
       "17869                 0              0       Full-time    Mid-Senior level   \n",
       "17875                 1              1       Full-time    Mid-Senior level   \n",
       "17879                 1              1       Full-time    Mid-Senior level   \n",
       "\n",
       "              required_education                             industry  \\\n",
       "16             Bachelor's Degree                             Internet   \n",
       "36             Bachelor's Degree                 Education Management   \n",
       "53             Bachelor's Degree                   Financial Services   \n",
       "59                   Unspecified  Information Technology and Services   \n",
       "61     High School or equivalent                      Food Production   \n",
       "...                          ...                                  ...   \n",
       "17860                Unspecified  Information Technology and Services   \n",
       "17864          Bachelor's Degree  Information Technology and Services   \n",
       "17869          Bachelor's Degree                      Pharmaceuticals   \n",
       "17875          Bachelor's Degree                    Computer Software   \n",
       "17879          Bachelor's Degree                    Computer Software   \n",
       "\n",
       "                     function  fraudulent  \n",
       "16                Engineering           0  \n",
       "36     Information Technology           0  \n",
       "53     Information Technology           0  \n",
       "59                     Design           0  \n",
       "61               Supply Chain           0  \n",
       "...                       ...         ...  \n",
       "17860  Information Technology           0  \n",
       "17864  Information Technology           0  \n",
       "17869  Information Technology           0  \n",
       "17875                   Sales           0  \n",
       "17879             Engineering           0  \n",
       "\n",
       "[2880 rows x 18 columns]"
      ]
     },
     "execution_count": 19,
     "metadata": {},
     "output_type": "execute_result"
    }
   ],
   "source": [
    "data_with_balance = data\n",
    "n = 15000\n",
    "data_with_balance = data_with_balance.drop(data_with_balance.loc[data_with_balance['fraudulent'] == 0].sample(n=n).index)\n",
    "data_with_balance"
   ]
  },
  {
   "cell_type": "code",
   "execution_count": 20,
   "metadata": {},
   "outputs": [
    {
     "data": {
      "image/png": "[encoded data removed]",
      "text/plain": [
       "<Figure size 432x288 with 1 Axes>"
      ]
     },
     "metadata": {},
     "output_type": "display_data"
    }
   ],
   "source": [
    "plt.pie(data_with_balance.fraudulent.value_counts(), labels = ['Real jobs', 'Fake jobs'], autopct = '%1.0f%%', radius = 1)\n",
    "plt.title('Real or Fake jobs')\n",
    "pass"
   ]
  },
  {
   "cell_type": "markdown",
   "metadata": {},
   "source": [
    "# Обработка категориальных признаков\n",
    "По таблице видно, что все столбы небинарны. Так как значение уникальных признаков больше двух.\n",
    "Проведем векторизацию признаков, заменяя все уникальные значения на уникальный столбец."
   ]
  },
  {
   "cell_type": "code",
   "execution_count": 21,
   "metadata": {},
   "outputs": [],
   "source": [
    "del data_with_balance['salary_range']\n",
    "del data_with_balance['job_id']\n",
    "del data_with_balance['department']\n",
    "del data_with_balance['benefits']\n",
    "del data_with_balance['title']"
   ]
  },
  {
   "cell_type": "markdown",
   "metadata": {},
   "source": [
    "Убираем данные столбцы, так как идентификатор никак не влияет на будущую выборку, а зарплата содержала много пропущенных значений."
   ]
  },
  {
   "cell_type": "code",
   "execution_count": 22,
   "metadata": {},
   "outputs": [
    {
     "data": {
      "text/html": [
       "<div>\n",
       "<style scoped>\n",
       "    .dataframe tbody tr th:only-of-type {\n",
       "        vertical-align: middle;\n",
       "    }\n",
       "\n",
       "    .dataframe tbody tr th {\n",
       "        vertical-align: top;\n",
       "    }\n",
       "\n",
       "    .dataframe thead th {\n",
       "        text-align: right;\n",
       "    }\n",
       "</style>\n",
       "<table border=\"1\" class=\"dataframe\">\n",
       "  <thead>\n",
       "    <tr style=\"text-align: right;\">\n",
       "      <th></th>\n",
       "      <th>location</th>\n",
       "      <th>company_profile</th>\n",
       "      <th>description</th>\n",
       "      <th>requirements</th>\n",
       "      <th>telecommuting</th>\n",
       "      <th>has_company_logo</th>\n",
       "      <th>has_questions</th>\n",
       "      <th>employment_type</th>\n",
       "      <th>required_experience</th>\n",
       "      <th>required_education</th>\n",
       "      <th>industry</th>\n",
       "      <th>function</th>\n",
       "      <th>fraudulent</th>\n",
       "    </tr>\n",
       "  </thead>\n",
       "  <tbody>\n",
       "    <tr>\n",
       "      <th>16</th>\n",
       "      <td>IL, , Tel Aviv, Israel</td>\n",
       "      <td>At HoneyBook we’re re-imagining the events ind...</td>\n",
       "      <td>We are looking for a Hands-On QA Leader for ou...</td>\n",
       "      <td>Previous experience in client &amp;amp; server tes...</td>\n",
       "      <td>0</td>\n",
       "      <td>1</td>\n",
       "      <td>0</td>\n",
       "      <td>Full-time</td>\n",
       "      <td>Mid-Senior level</td>\n",
       "      <td>Bachelor's Degree</td>\n",
       "      <td>Internet</td>\n",
       "      <td>Engineering</td>\n",
       "      <td>0</td>\n",
       "    </tr>\n",
       "    <tr>\n",
       "      <th>36</th>\n",
       "      <td>US, NY, Yonkers</td>\n",
       "      <td>We help teachers get safe &amp;amp; secure jobs ab...</td>\n",
       "      <td>Play with kids, get paid for it :-)Love travel...</td>\n",
       "      <td>University degree required. TEFL / TESOL / CEL...</td>\n",
       "      <td>0</td>\n",
       "      <td>1</td>\n",
       "      <td>0</td>\n",
       "      <td>Contract</td>\n",
       "      <td>Mid-Senior level</td>\n",
       "      <td>Bachelor's Degree</td>\n",
       "      <td>Education Management</td>\n",
       "      <td>Information Technology</td>\n",
       "      <td>0</td>\n",
       "    </tr>\n",
       "    <tr>\n",
       "      <th>53</th>\n",
       "      <td>US, NY, New York City</td>\n",
       "      <td>We help teachers get safe &amp;amp; secure jobs ab...</td>\n",
       "      <td>GBI is a growing company developing several cu...</td>\n",
       "      <td>Must have excellent oral and written communica...</td>\n",
       "      <td>0</td>\n",
       "      <td>0</td>\n",
       "      <td>0</td>\n",
       "      <td>Full-time</td>\n",
       "      <td>Associate</td>\n",
       "      <td>Bachelor's Degree</td>\n",
       "      <td>Financial Services</td>\n",
       "      <td>Information Technology</td>\n",
       "      <td>0</td>\n",
       "    </tr>\n",
       "    <tr>\n",
       "      <th>59</th>\n",
       "      <td>US, CA, San Francisco</td>\n",
       "      <td>From the lands of Can Do, Roll Our Sleeves Up ...</td>\n",
       "      <td>Apcera is revolutionizing enterprise technolog...</td>\n",
       "      <td>RESPONSIBILITIES:Work with the UX architect's ...</td>\n",
       "      <td>0</td>\n",
       "      <td>1</td>\n",
       "      <td>1</td>\n",
       "      <td>Full-time</td>\n",
       "      <td>Not Applicable</td>\n",
       "      <td>Unspecified</td>\n",
       "      <td>Information Technology and Services</td>\n",
       "      <td>Design</td>\n",
       "      <td>0</td>\n",
       "    </tr>\n",
       "    <tr>\n",
       "      <th>61</th>\n",
       "      <td>US, IA, Cedar Rapids</td>\n",
       "      <td>Red Star Yeast Company LLC (RSYC), a leader in...</td>\n",
       "      <td>The primary function of this position is to pe...</td>\n",
       "      <td>Must be able to understand and follow the flow...</td>\n",
       "      <td>0</td>\n",
       "      <td>1</td>\n",
       "      <td>1</td>\n",
       "      <td>Full-time</td>\n",
       "      <td>Entry level</td>\n",
       "      <td>High School or equivalent</td>\n",
       "      <td>Food Production</td>\n",
       "      <td>Supply Chain</td>\n",
       "      <td>0</td>\n",
       "    </tr>\n",
       "    <tr>\n",
       "      <th>...</th>\n",
       "      <td>...</td>\n",
       "      <td>...</td>\n",
       "      <td>...</td>\n",
       "      <td>...</td>\n",
       "      <td>...</td>\n",
       "      <td>...</td>\n",
       "      <td>...</td>\n",
       "      <td>...</td>\n",
       "      <td>...</td>\n",
       "      <td>...</td>\n",
       "      <td>...</td>\n",
       "      <td>...</td>\n",
       "      <td>...</td>\n",
       "    </tr>\n",
       "    <tr>\n",
       "      <th>17860</th>\n",
       "      <td>US, CA, Bay Area</td>\n",
       "      <td>We help teachers get safe &amp;amp; secure jobs ab...</td>\n",
       "      <td>Position: Sr. SQL Server DBALocation: Bay Area...</td>\n",
       "      <td>Provide 24x7 on-call support</td>\n",
       "      <td>0</td>\n",
       "      <td>1</td>\n",
       "      <td>0</td>\n",
       "      <td>Contract</td>\n",
       "      <td>Mid-Senior level</td>\n",
       "      <td>Unspecified</td>\n",
       "      <td>Information Technology and Services</td>\n",
       "      <td>Information Technology</td>\n",
       "      <td>0</td>\n",
       "    </tr>\n",
       "    <tr>\n",
       "      <th>17864</th>\n",
       "      <td>US, MA, Cambridge</td>\n",
       "      <td>MERL's internship program gives students excel...</td>\n",
       "      <td>MERL is looking for a well qualified individua...</td>\n",
       "      <td>University degree required. TEFL / TESOL / CEL...</td>\n",
       "      <td>0</td>\n",
       "      <td>1</td>\n",
       "      <td>1</td>\n",
       "      <td>Full-time</td>\n",
       "      <td>Mid-Senior level</td>\n",
       "      <td>Bachelor's Degree</td>\n",
       "      <td>Information Technology and Services</td>\n",
       "      <td>Information Technology</td>\n",
       "      <td>0</td>\n",
       "    </tr>\n",
       "    <tr>\n",
       "      <th>17869</th>\n",
       "      <td>US, DE, Wilmington</td>\n",
       "      <td>We help teachers get safe &amp;amp; secure jobs ab...</td>\n",
       "      <td>Job Title:  Sr Technical LeadSalary: OpenDurat...</td>\n",
       "      <td>Responsibilities: He should be extensive knowl...</td>\n",
       "      <td>0</td>\n",
       "      <td>0</td>\n",
       "      <td>0</td>\n",
       "      <td>Full-time</td>\n",
       "      <td>Mid-Senior level</td>\n",
       "      <td>Bachelor's Degree</td>\n",
       "      <td>Pharmaceuticals</td>\n",
       "      <td>Information Technology</td>\n",
       "      <td>0</td>\n",
       "    </tr>\n",
       "    <tr>\n",
       "      <th>17875</th>\n",
       "      <td>CA, ON, Toronto</td>\n",
       "      <td>Vend is looking for some awesome new talent to...</td>\n",
       "      <td>Just in case this is the first time you’ve vis...</td>\n",
       "      <td>To ace this role you:Will eat comprehensive St...</td>\n",
       "      <td>0</td>\n",
       "      <td>1</td>\n",
       "      <td>1</td>\n",
       "      <td>Full-time</td>\n",
       "      <td>Mid-Senior level</td>\n",
       "      <td>Bachelor's Degree</td>\n",
       "      <td>Computer Software</td>\n",
       "      <td>Sales</td>\n",
       "      <td>0</td>\n",
       "    </tr>\n",
       "    <tr>\n",
       "      <th>17879</th>\n",
       "      <td>NZ, N, Wellington</td>\n",
       "      <td>Vend is looking for some awesome new talent to...</td>\n",
       "      <td>Who are we?Vend is an award winning web based ...</td>\n",
       "      <td>We want to hear from you if:You have an in-dep...</td>\n",
       "      <td>0</td>\n",
       "      <td>1</td>\n",
       "      <td>1</td>\n",
       "      <td>Full-time</td>\n",
       "      <td>Mid-Senior level</td>\n",
       "      <td>Bachelor's Degree</td>\n",
       "      <td>Computer Software</td>\n",
       "      <td>Engineering</td>\n",
       "      <td>0</td>\n",
       "    </tr>\n",
       "  </tbody>\n",
       "</table>\n",
       "<p>2880 rows × 13 columns</p>\n",
       "</div>"
      ],
      "text/plain": [
       "                     location  \\\n",
       "16     IL, , Tel Aviv, Israel   \n",
       "36            US, NY, Yonkers   \n",
       "53      US, NY, New York City   \n",
       "59      US, CA, San Francisco   \n",
       "61       US, IA, Cedar Rapids   \n",
       "...                       ...   \n",
       "17860        US, CA, Bay Area   \n",
       "17864       US, MA, Cambridge   \n",
       "17869      US, DE, Wilmington   \n",
       "17875         CA, ON, Toronto   \n",
       "17879       NZ, N, Wellington   \n",
       "\n",
       "                                         company_profile  \\\n",
       "16     At HoneyBook we’re re-imagining the events ind...   \n",
       "36     We help teachers get safe &amp; secure jobs ab...   \n",
       "53     We help teachers get safe &amp; secure jobs ab...   \n",
       "59     From the lands of Can Do, Roll Our Sleeves Up ...   \n",
       "61     Red Star Yeast Company LLC (RSYC), a leader in...   \n",
       "...                                                  ...   \n",
       "17860  We help teachers get safe &amp; secure jobs ab...   \n",
       "17864  MERL's internship program gives students excel...   \n",
       "17869  We help teachers get safe &amp; secure jobs ab...   \n",
       "17875  Vend is looking for some awesome new talent to...   \n",
       "17879  Vend is looking for some awesome new talent to...   \n",
       "\n",
       "                                             description  \\\n",
       "16     We are looking for a Hands-On QA Leader for ou...   \n",
       "36     Play with kids, get paid for it :-)Love travel...   \n",
       "53     GBI is a growing company developing several cu...   \n",
       "59     Apcera is revolutionizing enterprise technolog...   \n",
       "61     The primary function of this position is to pe...   \n",
       "...                                                  ...   \n",
       "17860  Position: Sr. SQL Server DBALocation: Bay Area...   \n",
       "17864  MERL is looking for a well qualified individua...   \n",
       "17869  Job Title:  Sr Technical LeadSalary: OpenDurat...   \n",
       "17875  Just in case this is the first time you’ve vis...   \n",
       "17879  Who are we?Vend is an award winning web based ...   \n",
       "\n",
       "                                            requirements  telecommuting  \\\n",
       "16     Previous experience in client &amp; server tes...              0   \n",
       "36     University degree required. TEFL / TESOL / CEL...              0   \n",
       "53     Must have excellent oral and written communica...              0   \n",
       "59     RESPONSIBILITIES:Work with the UX architect's ...              0   \n",
       "61     Must be able to understand and follow the flow...              0   \n",
       "...                                                  ...            ...   \n",
       "17860                       Provide 24x7 on-call support              0   \n",
       "17864  University degree required. TEFL / TESOL / CEL...              0   \n",
       "17869  Responsibilities: He should be extensive knowl...              0   \n",
       "17875  To ace this role you:Will eat comprehensive St...              0   \n",
       "17879  We want to hear from you if:You have an in-dep...              0   \n",
       "\n",
       "       has_company_logo  has_questions employment_type required_experience  \\\n",
       "16                    1              0       Full-time    Mid-Senior level   \n",
       "36                    1              0        Contract    Mid-Senior level   \n",
       "53                    0              0       Full-time           Associate   \n",
       "59                    1              1       Full-time      Not Applicable   \n",
       "61                    1              1       Full-time         Entry level   \n",
       "...                 ...            ...             ...                 ...   \n",
       "17860                 1              0        Contract    Mid-Senior level   \n",
       "17864                 1              1       Full-time    Mid-Senior level   \n",
       "17869                 0              0       Full-time    Mid-Senior level   \n",
       "17875                 1              1       Full-time    Mid-Senior level   \n",
       "17879                 1              1       Full-time    Mid-Senior level   \n",
       "\n",
       "              required_education                             industry  \\\n",
       "16             Bachelor's Degree                             Internet   \n",
       "36             Bachelor's Degree                 Education Management   \n",
       "53             Bachelor's Degree                   Financial Services   \n",
       "59                   Unspecified  Information Technology and Services   \n",
       "61     High School or equivalent                      Food Production   \n",
       "...                          ...                                  ...   \n",
       "17860                Unspecified  Information Technology and Services   \n",
       "17864          Bachelor's Degree  Information Technology and Services   \n",
       "17869          Bachelor's Degree                      Pharmaceuticals   \n",
       "17875          Bachelor's Degree                    Computer Software   \n",
       "17879          Bachelor's Degree                    Computer Software   \n",
       "\n",
       "                     function  fraudulent  \n",
       "16                Engineering           0  \n",
       "36     Information Technology           0  \n",
       "53     Information Technology           0  \n",
       "59                     Design           0  \n",
       "61               Supply Chain           0  \n",
       "...                       ...         ...  \n",
       "17860  Information Technology           0  \n",
       "17864  Information Technology           0  \n",
       "17869  Information Technology           0  \n",
       "17875                   Sales           0  \n",
       "17879             Engineering           0  \n",
       "\n",
       "[2880 rows x 13 columns]"
      ]
     },
     "execution_count": 22,
     "metadata": {},
     "output_type": "execute_result"
    }
   ],
   "source": [
    "data_with_balance"
   ]
  },
  {
   "cell_type": "code",
   "execution_count": 23,
   "metadata": {},
   "outputs": [
    {
     "data": {
      "text/html": [
       "<div>\n",
       "<style scoped>\n",
       "    .dataframe tbody tr th:only-of-type {\n",
       "        vertical-align: middle;\n",
       "    }\n",
       "\n",
       "    .dataframe tbody tr th {\n",
       "        vertical-align: top;\n",
       "    }\n",
       "\n",
       "    .dataframe thead th {\n",
       "        text-align: right;\n",
       "    }\n",
       "</style>\n",
       "<table border=\"1\" class=\"dataframe\">\n",
       "  <thead>\n",
       "    <tr style=\"text-align: right;\">\n",
       "      <th></th>\n",
       "      <th>telecommuting</th>\n",
       "      <th>has_company_logo</th>\n",
       "      <th>has_questions</th>\n",
       "      <th>fraudulent</th>\n",
       "      <th>text</th>\n",
       "    </tr>\n",
       "  </thead>\n",
       "  <tbody>\n",
       "    <tr>\n",
       "      <th>16</th>\n",
       "      <td>0</td>\n",
       "      <td>1</td>\n",
       "      <td>0</td>\n",
       "      <td>0</td>\n",
       "      <td>IL, , Tel Aviv, Israel At HoneyBook we’re re-i...</td>\n",
       "    </tr>\n",
       "    <tr>\n",
       "      <th>36</th>\n",
       "      <td>0</td>\n",
       "      <td>1</td>\n",
       "      <td>0</td>\n",
       "      <td>0</td>\n",
       "      <td>US, NY, Yonkers We help teachers get safe &amp;amp...</td>\n",
       "    </tr>\n",
       "    <tr>\n",
       "      <th>53</th>\n",
       "      <td>0</td>\n",
       "      <td>0</td>\n",
       "      <td>0</td>\n",
       "      <td>0</td>\n",
       "      <td>US, NY, New York City We help teachers get saf...</td>\n",
       "    </tr>\n",
       "    <tr>\n",
       "      <th>59</th>\n",
       "      <td>0</td>\n",
       "      <td>1</td>\n",
       "      <td>1</td>\n",
       "      <td>0</td>\n",
       "      <td>US, CA, San Francisco From the lands of Can Do...</td>\n",
       "    </tr>\n",
       "    <tr>\n",
       "      <th>61</th>\n",
       "      <td>0</td>\n",
       "      <td>1</td>\n",
       "      <td>1</td>\n",
       "      <td>0</td>\n",
       "      <td>US, IA, Cedar Rapids Red Star Yeast Company LL...</td>\n",
       "    </tr>\n",
       "  </tbody>\n",
       "</table>\n",
       "</div>"
      ],
      "text/plain": [
       "    telecommuting  has_company_logo  has_questions  fraudulent  \\\n",
       "16              0                 1              0           0   \n",
       "36              0                 1              0           0   \n",
       "53              0                 0              0           0   \n",
       "59              0                 1              1           0   \n",
       "61              0                 1              1           0   \n",
       "\n",
       "                                                 text  \n",
       "16  IL, , Tel Aviv, Israel At HoneyBook we’re re-i...  \n",
       "36  US, NY, Yonkers We help teachers get safe &amp...  \n",
       "53  US, NY, New York City We help teachers get saf...  \n",
       "59  US, CA, San Francisco From the lands of Can Do...  \n",
       "61  US, IA, Cedar Rapids Red Star Yeast Company LL...  "
      ]
     },
     "execution_count": 23,
     "metadata": {},
     "output_type": "execute_result"
    }
   ],
   "source": [
    "data_with_balance['text'] = data_with_balance['location'] + ' ' + data_with_balance['company_profile'] + ' ' + data_with_balance['description'] + ' ' + data_with_balance['requirements'] + ' ' + data_with_balance['employment_type'] + ' ' + data_with_balance['required_education'] + ' ' + data_with_balance['industry'] + ' ' + data_with_balance['function']\n",
    "del data_with_balance['location']\n",
    "del data_with_balance['company_profile']\n",
    "del data_with_balance['description']\n",
    "del data_with_balance['requirements']\n",
    "del data_with_balance['employment_type']\n",
    "del data_with_balance['required_experience']\n",
    "del data_with_balance['required_education']\n",
    "del data_with_balance['industry']\n",
    "del data_with_balance['function']\n",
    "\n",
    "data_with_balance.head()"
   ]
  },
  {
   "cell_type": "markdown",
   "metadata": {},
   "source": [
    "Здесь мы объединяем все строки в один общий столбец, так как при векторизации получилось бы очень много столбцов."
   ]
  },
  {
   "cell_type": "code",
   "execution_count": 24,
   "metadata": {},
   "outputs": [
    {
     "name": "stdout",
     "output_type": "stream",
     "text": [
      "Index(['text_AE, ,  We help teachers get safe &amp; secure jobs abroad :) Greetings from VAM SYSTEMS…..VAM SYSTEMS is a Business Consulting, IT Solutions and Services company with operations in UAE, Qatar, Bahrain, USA, Australia, Singapore &amp; India. We offers a comprehensive list of services in the field of IT infrastructure management, Cloud services, IT Consulting Services, Banking, Management Resources, Information Technology Development, Telecom, Aviation, Retail Management &amp; eGovernment offerings.VAM SYSTEMS is currently looking for PeopleSoft Financial Consultant for our UAE operations .Terms and conditions: Joining time frame: 2 weeks (maximum 1 month).The selected candidates shall join VAM SYSTEMS – UAE and shall be deputed to one of the leading Organizations in UAE.Should you be interested in this opportunity, please send your latest resume in MS Word format at the earliest at #EMAIL_b08cf5e4101b4b7b7594fe3081f94f7f9a0f2d6192fb5d4a1a72ecf03c816e83# or call us #PHONE_18a826c883d3d597793b4d350191430bd42ce0b93fe27a781a52e8a89e9ba78f#.           Skill Set required:·         5+Years of experience in PeopleSoft Financial Consultant Full-time Bachelor's Degree Information Technology and Services Information Technology',\n",
      "       'text_AE, ,  We help teachers get safe &amp; secure jobs abroad :) Job Description:• To perform active sales for corporate existing and potential customers• To visit customers periodically in order to define their needs and to find potential new customers• To develop strategic selling plans for all opportunities • BS or MS in Computer Engineering, Management Engineering, Industrial Engineering, Statistics or related fields.• Minimum 10 years of experience preferably in telco industry• Minimum 2 years of “software” sales experience preferably in telco industry• Experience in selling software platforms and associated services and/or working in the telco industry• Outstanding interpersonal and communication skills• Eagerness for quality and continuous improvement of processes• Result oriented and analytical minded• Pro – active, self motivated and customer oriented• Available to travel and work in flexible hours• Excellent command of English         Full-time Bachelor's Degree Telecommunications Sales',\n",
      "       'text_AE, AZ,  Optimal Business Action was created in 2005 in order to provide high quality, personalized HR services to medium and large-cap companies operating in Greece, the Balkans and the Middle East. Seven years later we are present in Athens, Bucharest and Dubai, and several of these companies are on our client list, including most major banks, pharmaceuticals, hotel &amp; retail chains, and large IT firms. We are one of only nine HR firms in Greece operating under the Temping Permit issued by the Labor Ministry and among a very few which offer employee evaluations based on the combination of the Minnesota Multiphasic Personality Inventory (MMPI) and Rorschach tests. Amongst our advantages is our extensive candidate network, the use of industry-specialized recruiters, our technology tools – including candidate pre-recorded interviews, and our competitive, on-success, fee structure. Our subsidiaries: Creative HR which was created in 2010 in order to undertake human-capital intensive projects, HR department restructurings, and provide HR consulting services. iTechScope Recruitment which was created in 2011 and is the first international recruitment company in Greece specializing in sourcing and placing personnel for companies operating in the fields of Information Technology, Telecommunications, and Engineering. Optimal HR Middle East FZC which was created in 2013 and is the group’s entity in the UAE, providing our clients with Recruiting, Consulting, and Training products and services. Our partnerships: As of 2014, Optimal is the exclusive Gi Group (#URL_1458d4797348b1fe258e750e89ab66b11c9565a10abede82d761ce37c53395b6#) partner for Greece and the UAE, offering a vast array of products and services as well as sourcing access to candidates from 32 countries around the world. GI is one of the world's leading HR companies, providing services for the development of the labor market. It employs a staff of almost 2.500 people and its 2013 turnover approached $1.5 billion. We have an exclusive representation agreement with UK's APS (#URL_b40fd0caf83243a019915fa08fcf0afbb9f377d15194c88d4e4896e6848bbbbd#) for their on-line evaluation products, such as the TEIQue, Engagement Survey, and 360 Survey, and an exclusive collaboration with Chris Daffy (#URL_712f5a993f998f7aad7e3cc1b7d9c7d3eb17e8ffcace779065d1902e412e2c3d#) for his Customer Experience training programs. We also work with UK's Epigon Training &amp; Development (#URL_fe1f8ff39ad549be4c26f84c348c2d2dad85c84e6746f60140eb4392e652e543#) for NLP-based training seminars. Please contact us at: +30 210 32 59 350 GR &amp; +971 (0) 56 39 33 546 UAE or e-mail us at: #EMAIL_eb107d9d9176aa07bb1d808b882aacd15565df1b289ed0391e62d9bc7422d718# and #EMAIL_21116c53126810b34d578a02cb53ece4f520daa553e1b3ee91c614cc67d51c5d# On behalf if our client -an IT Integrator- we are looking to recruit a Head of Operations for Abu Dhabi branch.Main Responsibilities:Responsible, manage and oversee assigned ELV /CCTV etc projectsEnsure timely completion of all projectsMonitor/review operational costs and responsible for financial performance of projectsProject Management-meetings, coordination and supervision worksLiaise with consultants, contractors etc to handle all technical mattersEstablish and maintain effective communication with clients Main Requirements:Bachelor degree in Electrical Engineering, IT, Telecoms. Preferably, registered Professional EngineerAt least 3-4 years similar experience on ELV systemsMust have relevant experience at least in one of the following:Security, ELV SYSTEM (CCTV, BMS, ACS)iBMS (Integrated Building Management System)Excellent organizational, interpersonal, and communication skillsExcellent problem solving, initiative and analytical skillsExcellent leadership skills - able to agree objectives and deliverStrong commercial focusFluency in English. Arabic language is a plus Full-time Bachelor's Degree Information Technology and Services Information Technology',\n",
      "       'text_AE, DU,  VAM SYSTEMS is a Business Consulting, IT Solutions and Services company with operations in UAE, Qatar, Bahrain, USA, Australia, Singapore &amp; India. . We offers a comprehensive list of services in the field of IT infrastructure management, Cloud services, IT Consulting Services, Banking, Management Resources, Information Technology Development, Telecom, Aviation, Retail Management &amp; Government offerings. Greetings from VAM SYSTEMS…..VAM SYSTEMS is a Business Consulting, IT Solutions and Services company with operations in UAE, Qatar, Bahrain, USA, Australia, Singapore &amp; India. We offers a comprehensive list of services in the field of IT infrastructure management, Cloud services, IT Consulting Services, Banking, Management Resources, Information Technology Development, Telecom, Aviation, Retail Management &amp; Government offerings.VAM SYSTEMS is currently looking for Lean Expert for our UAE operations.Experience required: 12 to 15 yearsTerms and conditions: Joining time frame: 2 weeks (maximum 1 month).The selected candidates shall join VAM SYSTEMS – UAE and shall be deputed to one of the leading Organizations in UAE.        Skill Set required:Strong experience in Lean and  Six SigmaShould have lead lean projects with financial savingsExperience of working in the Middle East is must.BFSI experience is mandatory. Full-time Bachelor's Degree Information Technology and Services Information Technology',\n",
      "       'text_AE, DU,  We help teachers get safe &amp; secure jobs abroad :)  Job Purpose: Plan, develop and implement strategies for business development and growth across the given territory for the designated products   Responsibilities:  Responsible for the sale of cable management systems to MEP contractors and fit out companies within the UAE and Middle East and to secure specification of the companies’ products with the relevant consultants, architects and designers. Achieve defined individual and team sales targetManage existing accountsSource new customer baseAssist general sales team with product enquiriesIntroduce new products to marketTechnical sales of cable management systems and associated productsDevelop long term relationships with MEP contractors, consultants, architects and designersNegotiate and secure favorable terms of businessCalculate relevant BOQ and prepare client quotesDevelop estimates, operating plans/forecasts/reviews/reportsTo maintain pipeline, sales and account records in accordance with generally accepted principles as set out in company policies and procedures.Serve as a business partner to the management team to drive business initiatives, growth and profitabilityManage internal/external relations.Create  overall  sales vision  and  strategy  and break it down to actions to drive quarterly resultsIdentify new target customers and increase sales within existing accountsIdentify key decision makers in clients, developing and maintaining strong and effective strategic relationships with themAlign resources and structure and leverage key accounts to drive growthWork  closely  with  sales  and  marketing  teams  to  identify  short  and  long  term  growth Opportunities and manage timely  execution involving cross functional teamsPrepare  cost  estimates  for  customersCultivate  positive  working  relationships  with  direct/indirect  customers/channelsDeliver  sales  training  to  any future  channel partnersBuild the company brand in the region: presentations at conferences, trade shows, etc.Leverage other group offerings to win large scale projectsDrive  an  understanding  of  MEA's  market  potential  for  the  portfolio of company products Drive  a  thorough  understanding  of  Middle  East and Africa (MEA)  investment  drivers  including  but  not limited  to  the  following: Government/Regulatory  policies  in  relation  to  company  product sectorsDynamics    and    trends  in  the region  and  within  the  regional  customer  baseCompetitive  environment  at  the  tactical  level  across  relevant technologiesOversee  region  specific  demand  creation  activities  including  customer  communication       activitiesLiaise  with  other  departments  to  resolve  issues  &amp;  barriers  to  superior  customer  service striving  to  meet/exceed  customers'  expectations Responsible for adjusting concepts/offerings to particular needs of contractors/ consultants/regions/countriesResponsible for monthly/quarterly/annual sales reporting metrics to company management and boardEnsure adherence to company policies and practices related to the commercial cycles (service accounting, revenue recognition, margin management, etc)To develop and maintain the company’s reputation in the region and to position it as the industry leader  Additional tasks and responsibilities To adhere to the company’s policies and procedures both written and implied.Interface productively with peers enabling effective cross-functional working practices.Fulfil any other duties as required to do so by line management.  Competencies Individual excellence Action orientated: Pursues work with energy, drive, and a strong accomplishment orientation.Integrity and trustworthiness: Behaves according to high ethical business principles and values.Self confidence: Feels successful in past undertakings and expects to succeed in future activities.Results Drive for results: Continually focuses on achieving positive, concrete results contributing to business success.Planning, organising and co-ordinating: Efficiently develops and implements plans to accomplish goals. Customer feedback Build a network and knowledge of UAE MEP contractors, consultants, architects and designers and gain feedback regarding the company and its productsCustomer focus: Investigates and takes action to meet customers’ current and future needs.Projects a positive and professional image of the company in all contacts.   Teamwork Communication skills: Writes, speaks, and presents information effectively and persuasively           across communication settings.Cross-group collaboration: Demonstrates ability to work across groups by setting mutual goals, ensuring clarity of roles, and working together in ways which enhance business effectiveness.Interpersonal skills: Develops and maintains good working relationships with others.Negotiation and conflict management: Negotiates or mediates sound agreements in business or organisational situations where there is disagreement or differences in interests.Organisational agility: Understands how to get things done and achieve objectives working with others in an organisational context. Long-term approach Strategic thinking: Understands the business, and anticipates and develops business priorities for future action. Language skills English (Hindi, Urdu and Arabic would be an advantage) Regional experience Not applicable but experience in Middle East sales and or Export an advantage. Preferred education BSc in Electrical Engineering or equivalent hands on experience  Work experience 10 years experience in a similar role8 years cable management experience.4 years export experience   Personal attributes   Maturity, excellent interpersonal skills, guts to succeed in a highly competitive market and a personal commitment to improve all round in order to carry out the task effectively.Passion for the industry and its developments.Entrepreneurial spirit, ambitious, passionate, innovative and motivated by challenge and rapid growth.      Full-time Bachelor's Degree Information Technology and Services Information Technology',\n",
      "       'text_AE, DU, Dubai Internet City Crowd Analyzer is the 1st fully automated social web monitoring tool in the MENA region which supports Arabic sentiment analysis with different dialects. We are searching for Ninja developers to be responsible for developing innovative, reusable, maintainable, reliable and highly scalable web-based tools for social media monitoring &amp; big data analysis. Our web developers are going to work on the next generation tool that automaically analyzes and understands Arabic text on social media.They are gonna craft new Natural Language Processing &amp; Machine Learning algorithms specially tailored for the Arabic language with its local dialects. BS in computer science or a related field, or significant equivalent experienceDevelopment Experience with at least one of the following programming languages PHP, JAVA, C, C++ &amp; #URL_968b3a839b798052f33a95a811f8b2366cd66f6bcc98f2885bea5ee47d000659#.Good working knowlege of SQL &amp; NoSQL databases.Professional experience with HTML 5 &amp; CSS 3.Self learner with strong self management skills.Ability to organize and manage multiple priorities. Full-time Bachelor's Degree Computer Software Information Technology',\n",
      "       'text_AE, DU, Dubai We help teachers get safe &amp; secure jobs abroad :) A well-known hospital in Dubai is looking for a full - time Specialist Obs./Gynec. (having DHA/HAAD/MOH License) to join in the institution. Eligible &amp; Interested candidates can forward their CV to us and we will be in contact with you. Must have either any UAE License, DHA/HAAD/MOH. DHA &amp; HAAD are preferred.  Full-time Bachelor's Degree Health, Wellness and Fitness Information Technology',\n",
      "       'text_AT, ,  LOOP is an award winning interactive agency based in Salzburg with satellite offices in Copenhagen, Berlin, Sydney and New York City. We work on remarkable online campaigns in web, social and mobile specializations. Over the last few years our brilliant team has done outstanding work for internationally recognised brands such as Puma, Audi, Clearasil, Durex and many more. OUR SERVICES.We create digital experiences for brands and companies by using creativity and technology. From design to development, from mobile to social, from content production to monitoring and analytics. LOOP offers a broad range of services to help businesses and brands thrive in the digital age. LOOP works together with brands to craft strategies along with a unique and innovative digital approach. We thrive on collaborating with clients who are looking to push the limits and think outside the box.ENGAGING THE #URL_1cc142d21262b78a43aae9217a11ae2d5ebb9f2289a01a905afe6ffe361c4565#'S WHAT WE'RE HERE FOR.The common things expected from a digital agency are nice looking websites, branded social media profiles, some mobile apps and possibly a few microsites. At LOOP we aim for more. It kicks off with a brilliant idea and leads to a unique digital approach to draw in your target group. Contemporary advertising should be something that people really want to be part of. Engaging your audience, that is what we're here for. LOOP is an award winning interactive agency based in Salzburg with satellite offices in Copenhagen, Berlin, Sydney and New York City. We work on outstanding online campaigns in web, social and mobile specializations. Over the last few years our brilliant team has done remarkable and innovative work for internationally recognised high-profile brands such as Puma, Audi, Clearasil, Durex and numerous others. Mobile / IOS Developer As a Mobile Developer you are responsible for developing apps that make people feel engaged. Create state-of-the-art mobile applications for our international clients. You will be involved in projects from the ideation stage until final delivery and enjoy sharing your knowledge and experience with your international, interdisciplinary team. With advanced experience in iOS development, a passion for innovative UX solutions and design understanding, you'll have a great time at LOOP!  REQUIREMENTS AND RESPONSIBILITIESCreative problem solving skills and a thirst for knowldedgeEnjoyment of interesting challenges and problem-solvingLove to work with international clients and within an international teamAdvanced experience with Objective-C and Xcode 5/6Eager to drive into SwiftExperience with  mobile development, familiar with Subversion or Git, basic knowledge of backend technologies and a flexible approach to  technologies like Cocoapods. Or a thirst for knowldedge to learn these technologiesStrong team player and willingness to work closely with the agencies organizational and design teamGood English language skillsSignificant responsibility for the technical conception of mobile projects to achieve exceptional, innovative resultsResonsibility for technical quality assurance for each projectAbility to keep track of own projects, timings and needed resources in all situationsEnsure a perfect project workflow and work as part of teamAbility to flourish in a hands-on-culture and know when your team needs support We have a flat hierarchy and an exceptional team culture, and we encourage, recognise and reward our staff. We believe that there is a wide range of talent in our team, so we won´t restrict passionate people from learning skills in new areas for professional growth. We promote continual advancement in our staff by giving opportunities to attend tech conferences, meetups, english classes, workshops and further training.So if you are motivated to join the LOOP Team, we would be  happy to  offer you a full-time position as a Mobile / iOS Developer  in Salzburg. Your entry level and starting salary will be based on your experience.To be considered for this role, send your application/ covering letter, CV and earliest possible start date to  #EMAIL_e22981b7c26806a48425463c1f633f861c59f967d33ae5e11cab0ce1ad73c889#.  University degree required. TEFL / TESOL / CELTA or teaching experience preferred but not necessaryCanada/US passport holders only Full-time Bachelor's Degree Information Technology and Services Information Technology',\n",
      "       'text_AT, ,  The company BREADHUNTER e.U. was founded in 2012 to support companies and candidates to find common ground.            The company name emphasizes the moral aspect of headhunting &amp; recruiting in the age of Web 2.0, combined with innovative IT-Tools.Thomas Zahlten, the founder, looks back to 14 years of experience in international recruitment and talent management. Since 1999 I am experienced in the Industry of Finance &amp; Private Banking, IT &amp; Telekommunikation, Engineering &amp; Construction as well as in Pharma &amp; Life Science and the Energy Market. I successfully worked on more than 389 projects in recruiting, talent management and headhunting. Our main operating field is in Austria, Germany, Switzerland, CEE, Russia and Middle East and we love to solve international recruiting problems. Explore the difference in headhunting and meet Mr. BREADHUNTER. We offer Jobs in the following Industries:Energy / Oil and GasFinance &amp; Private BankingPharma &amp; Life ScienceIndustry &amp; AutomotiveIT &amp; TelecommunicationThe jobs are in Austria, Germany, Switzerland, CEE, Russia or Middle East only and cover salaries from 70.000,- € onwards as well as the Executive Level. Some jobs, we are working on, are discreet and made for Headhunters, which means, that they are not on our job-portal. Please send your CV, if you are looking for a new challange in the Industries mentioned above. We come back to you within 72 hours, if we have an open vacancy, which will correspond to your profile. Your CV and data is save in our database and will not send to anyone without your permission. By sending your CV to BREADHUNTER e.U. you agree with our terms of our privacy policy. German or English Language as must have, other languages are very welcome.Experience in your Job Industry between 3-5 years for minimum Full-time Professional Banking Management',\n",
      "       'text_AT, , Salzburg LOOP is an award winning interactive agency based in Salzburg with satellite offices in Copenhagen, Berlin, Sydney and New York City. We work on remarkable online campaigns in web, social and mobile specializations. Over the last few years our brilliant team has done outstanding work for internationally recognised brands such as Puma, Audi, Clearasil, Durex and many more. OUR SERVICES.We create digital experiences for brands and companies by using creativity and technology. From design to development, from mobile to social, from content production to monitoring and analytics. LOOP offers a broad range of services to help businesses and brands thrive in the digital age. LOOP works together with brands to craft strategies along with a unique and innovative digital approach. We thrive on collaborating with clients who are looking to push the limits and think outside the box.ENGAGING THE #URL_1cc142d21262b78a43aae9217a11ae2d5ebb9f2289a01a905afe6ffe361c4565#'S WHAT WE'RE HERE FOR.The common things expected from a digital agency are nice looking websites, branded social media profiles, some mobile apps and possibly a few microsites. At LOOP we aim for more. It kicks off with a brilliant idea and leads to a unique digital approach to draw in your target group. Contemporary advertising should be something that people really want to be part of. Engaging your audience, that is what we're here for. LOOP is an award winning interactive agency based in Salzburg with satellite offices in Copenhagen, Berlin, Sydney and New York City. We work on outstanding online campaigns in web, social and mobile specializations. Over the last few years our brilliant team has done remarkable and innovative work for internationally recognised high-profile brands such as Puma, Audi, Clearasil, Durex and numerous others. But enough about us. University degree required. TEFL / TESOL / CELTA or teaching experience preferred but not necessaryCanada/US passport holders only Contract Bachelor's Degree Information Technology and Services Information Technology',\n",
      "       ...\n",
      "       'text_US, WV, Buckhannon Valor Services provides Workforce Solutions that meet the needs of companies across the Private Sector, with a special focus on the Oil &amp; Gas Industry. Valor Services will be involved with you throughout every step of the hiring process and remain in contact with you all the way through the final step of signing of the employment contract with your new employer. Valor Services was founded with the vision of employing the unique skills, experiences, and qualities of America’s finest veterans to provide Private Sector companies with precise and concerted value-added services – and America’s finest Veterans with an optimized career opportunity.We are eager to get the word out to veterans that there are ample opportunities for employment in the private sector and that you are the ideal candidates to fill those positions. Valor Services Your Success is Our Mission. ™  Our client, located in Buckhannon WV, is actively seeking a Jr. Buyer that offers good planning skills and has extensive experience working with Excel Spreadsheets.   Responsibilities:Will help procure materials, including pipe, valves, fittings, connections, meters, flanges, and bolts, etc.Will help procure equipment, including pumps and air compressors, etc.   Associates-level of experience.  Company Overview:Our international client specializes in hi-tech transactional and technology services, consulting, systems integration, and managed services. Full-time Bachelor's Degree Information Technology and Services Information Technology',\n",
      "       'text_US, WV, Northern WV We Provide Full Time Permanent Positions for many medium to large US companies. We are interested in finding/recruiting high quality candidates in IT, Engineering, Manufacturing and other highly technical and non-technical jobs. Experienced Process Control Engineer is required having responsibility to Ensure integrity of the plant control systems (DCS &amp; PLCs) including infrastructure, backups, user access &amp; security, data availability and system documentation Job Responsibilities: Ensure integrity of the plant control systems (DCS &amp; PLCs) including infrastructure, backups, user access &amp; security, data availability and system documentationTroubleshoot, develop, install &amp; maintain process control applications (DCS &amp; PLCs) in all areas of the Client’s facilityApplications of third party software to the Foxboro I/A Series DCS such as:Aspen’s InfoPlus HistorianAspen’s Process ExplorerExcel VBA ReportingFoxrayAIM*AT HistorianIdentify and implement control enhancements including implementation of process modeling and related process engineering into process control.Work with production and maintenance engineers to identify and implement process improvements related to the controls of the plantTraining users on features and functionalities of the systems supported by the Advanced Process Control group.Ensure MESH Network infrastructure integrityWork directly with union craftsmen to complete some aspects of control system maintenance 10+ working years in the process control experience. Electrical Engineer preferred but Chemical and Mechanical Engineers with applicable experience will be considered.Must have knowledge of DCS hardware and operating systems and knowledge of PLC hardware and programming as well as knowledge of Ethernet Networking Protocols &amp; Equipment. 5+ Years of experience working in a heavy manufacturing / industrial setting.Candidate have experience in the following areas: Foxboro I/A DCS experience, Allen Bradley &amp; Modicon-Quantum PLC experience, Experience with Aspen Advanced Process Control, and modeling software, Safety Instrumented System Requirements, and Windows OS AdministrationEducational Qualifications:BS in Engineering or Engineering Technology or Associates Degree in related field We Provide Full Time Permanent Positions for many medium to large US companies. We have more than 1500 jobs available in our website. Our website has thousands of openings and these job openings are not posted anywhere else online. When you apply online through our website, it automatically forwards your information to the recruiter handling your applied job. If you are a close match, they will contact you immediately to discuss about the positions and do everything to get you an interview with the client as quickly as possible. Visit  : #URL_ec64af2b4fe2ca316e828f93b0cd098c22f8beba98dcac09d4dd7384b221a5e8#-#URL_9753a54b28303bf636a2816399b9c255d76fabb791336a4c748da2611a23264f#  Full-time Bachelor's Degree Electrical/Electronic Manufacturing Information Technology',\n",
      "       'text_US, WV, Shepherdstown We help teachers get safe &amp; secure jobs abroad :) Play with kids, get paid for it Love travel? Jobs in Asia$1500 USD + monthly ($200 Cost of living)Excellent for student loans/credit cardsHousing provided (Furnished/Private)Airfare ReimbursedRemind us when you wanted to start when applying :-) University degree required. TEFL / TESOL / CELTA or teaching experience preferred but not necessaryPositive attitude required. Canada/US passport holders only Contract Bachelor's Degree Education Management Education',\n",
      "       'text_VN, , Ho Chi Minh We help teachers get safe &amp; secure jobs abroad :) We are looking for IT Service Desk Specialist working in our office in District 12, Ho Chi Minh City. The primary objectives of the IT Service Desk are responsible for providing technical assistance and support related to computer systems, hardware and software. Respond to queries, run diagnostics program, isolates issues, determines and implements solution.ResposibilitiesAct as single point of contact for phone calls and emails from staff regarding IT issues and queries; Managing tickets submitted via Service Desk system; Responding to queries either in person, over telephone and email; Escalating unresolved tickets to higher level Service Desk team; Collaborating with internal teams for problem solving, tuning system; Resolving technical problems and provide technical assistance for incoming queries and issues related to computer, software and hardware; Performing installation, setup, configuration, repair IT equipment, personal computers, hardware and software;Resolving technical problems with Local Area Networks (LAN), Wide Area Networks (WAN), and other systems;Asking questions to determine nature of problem;Gaining feedback from customers about computer usage;Following up with customers to ensure issue has been resolved;Maintaining Asset database and tracking change;Developing and maintaining Service Desk system;Maintaining daily performance of computer systems;Running diagnostic programs to resolve problems and determine malfunctions that continue to occur;Installing computer peripherals for users;Cleaning up computers;Writing guideline and training manuals;Providing in-house training in Linux usage, IT policies and computer manual; andOther duties as assigned. General Bachelor’s degree in IT or any relevant fields; At least 1 years’ experience in similar position. Experience &amp; Skills Basic User &amp; Group Active Directory, IIS knowledge; Strong knowledge of Linux configuration, application and services; Experienced in configuration, setup TCP/IP, VLAN, switching, routing and wireless; Familiarity with ITIL processes; Ability to multi-task, work independently; Self-study and self-learning on new technology; Good customer service skills, articulate in written and verbal forms; Good problem solving, analytical and evaluative skills; Passion for technology is a must; and Fluent communication in English &amp; Vietnamese. Full-time Unspecified Computer & Network Security Information Technology',\n",
      "       'text_ZA, EC, East London We help teachers get safe &amp; secure jobs abroad :) Play with kids, get paid for it :-)Love travel? Jobs in Asia$1500 USD + monthly ($200 Cost of living)Housing providedAirfare ReimbursedExcellent for student loans/credit cardsGabriel Adkins : #URL_ed9094c60184b8a4975333957f05be37e69d3cdb68decc9dd9a4242733cfd7f7##URL_75db76d58f7994c7db24e8998c2fc953ab9a20ea9ac948b217693963f78d2e6b# University degree required. TEFL / TESOL / CELTA or teaching experience preferred but not necessaryPositive attitude required.  South African passport only Contract Bachelor's Degree Education Management Information Technology',\n",
      "       'text_ZA, NL, DURBAN We help teachers get safe &amp; secure jobs abroad :) Play with kids, get paid for it Love travel? Jobs in Asia$1,500+ USD monthly ($200 Cost of living)Housing provided (Private/Furnished)Airfare ReimbursedExcellent for student loans/credit cardsGabriel Adkins : #URL_ed9094c60184b8a4975333957f05be37e69d3cdb68decc9dd9a4242733cfd7f7##URL_75db76d58f7994c7db24e8998c2fc953ab9a20ea9ac948b217693963f78d2e6b#12 month contract : Apply today  University degree required. TEFL / TESOL / CELTA or teaching experience preferred but not necessaryCanada/US passport holders only Contract Bachelor's Degree Education Management Information Technology',\n",
      "       'text_ZA, NL, Richards Bay Ensight is an international energy design and implementation practice specialising in sophisticated whole-of-business energy efficiency programs for energy-intensive industry. Working for global enterprises, our innovative, world leading programs require people with a passion for efficiency, collaborative teamwork, economic optimisation and the delivery of rapid results that are enduring and profitable for our clients. Ensight is an international energy design practice specialising in sophisticated whole-of business energy efficiency programmes for energy-intensive industries. Our clients include global enterprises and our programmes are innovative, intensive and World-leading. We have a passion for efficiency, collaborative teamwork, economic optimisation and the delivery of significant results that are enduring and profitable for our clients.Job Scope:The Graduate Project Engineer provides support to the Project Engineers and has the opportunity to develop into an Associate Project #URL_5bbf210432b16fd22df3640b88450a638cdb6d70d744f3914ed003e83197b52e# may have the opportunity to progress from this Program to new Programs either in the Richards Bay, Durban or Johannesburg regions in the future.A Graduate Project Engineer has the opportunity to develop an Energy Leadership mind set and gain much experience by putting into practice what has been learnt at University.  A Graduate’s role provides support to the Project Engineers in the following areas: The collection of data and gaining a clear understanding of the plant under study including energy flows.Identifying new energy cost savings opportunities.Preparing, planning and facilitating of stakeholder engagement meetingsKey Responsibility:Working on the company’s energy efficiency processes, with the key objective being to maximize energy efficiency at the clients site. Essential Qualification Requirement:A Degree in Electrical, Mechanical, Industrial, Process or Chemical Engineering with an interest in pursuing a career within anenergy-orientated engineering environmentPreferred additional qualifications/ experienceExperience in  Industrial, Process or Systems engineering  is desirableEnergy Efficiency Qualifications including CEM or CMVP is advantageousFinancial or business qualifications will also be highly valued.Personalattributes/Key competencies required:A clear thinking, intelligent articulate professional with a keen commercial sense. Enjoying working in a strong team environment to quickly understand systems and processes and target opportunities for cost optimisation of all aspects relating to energy procurement and use.  You also demonstrate the following competencies: An inquiring mindExceptional  problem solving capabilitiesHighly developed communication and influencing skillsMust be willing totravel and relocate for business purposes Full-time Bachelor's Degree Mining & Metals Consulting',\n",
      "       'text_ZA, WC, Cape Town We help teachers get safe &amp; secure jobs abroad :) A fast-paced, B2B marketing firm  - Network Sunday - is looking for a qualified Account Manager  for our Cape Town branch.The positionThe Account Manager serves as the primary business contact for the client and is largely responsible for client satisfaction. The Account Manager is expected to consistently provide excellent customer service in a high-pressure environment. It is also imperative that the Account Manager represents client needs and goals within the organization to ensure quality.Responsibilities Responsible for all client communications, conflict resolution and compliance on client deliverables and campaign success.Understands company capabilities and service, and effectively communicates all offerings to the clientReviews all major deliverables to ensure quality standards and that client expectations are met.Ensures that client issues are dealt with efficiently and professionally; informing the Client Services Director of any escalating problems that may arise.Works closely with other Account Managers, Account support and Executive Assistants in order to maintain continuous knowledge of client status and progress.Ensures that all processes and procedures are completed and that quality standards are met.Aware and in pursuit of opportunities for new or return business.Communicates the client’s goals and interests accurately to the team.Regular reporting to the Customer Services Director, providing updates on all account activity, including status, dilemmas etc. RequirementsStrong computer literacy including advanced Office knowledge.Excellent telephone manner: professional and articulate.Excellent written and oral communication skills.Superior organisational ability.A high level of initiative.Team Player mentality.Skills to thrive under pressure and work to a deadline.  AdvantageousTertiary education3-4 years experience in the same/similar field.Sales experience Full-time Bachelor's Degree Marketing and Advertising Information Technology',\n",
      "       'text_ZA, WC, Oudtshoorn We help teachers get safe &amp; secure jobs abroad :) We have several openings available in this area offering a competitive income averaging about R2,500 per week.  We are seeking only, honest, self-motivated people with desire to work in the home typing and data entry field, from the comfort of their own homes.  No experience is needed.  .  If you fit the above description and meet the requirements, please apply at #EMAIL_3b3253aa3e1aa29ecb8bffbcc2811a9d106482ed5d0aa334ca98e74289e2c3af# Applicants should have a computer with internet access and have basic computer and typing skills, ability to spell and print neatly, ability to follow directions Full-time Bachelor's Degree Information Technology and Services Information Technology',\n",
      "       'text_ZA, WC, Stellenbosch We help teachers get safe &amp; secure jobs abroad :) Space Age has built an enviable reputation as a leading platform services company in South Africa.  With forward thinking employment practices, a formidable team, innovative services and a large footprint in the SME arena, Space Age prides itself on being an outstanding company of people.We are looking to expand our sales team and seek the services of a Senior Business Development Consultant who shares our passion and who believes in the value of IT for SMEs. This will be the opportunity you are looking for where you can challenge and define your talent as a Business Development Consultant while working for one of the best in the industry.As a big picture thinker, the Business Development Consultant will be responsible for identifying and winning new opportunities and growing the sales pipeline. Being a strong networker, you will cultivate trust and credibility while ensuring you add value to individual customers. Your previous business development and solution selling experience will allow you to grow the Space Age customer base and you will operate with a high level of integrity.  Duties and deliverables: Consistently meet and exceed revenue targetsExpand customer data base and grow business opportunities through independent prospectingCreate high quality proposals and manage the sales cycle to ensure customers are won quickly and efficientlySkills and experience:Proven track record in solution selling is a prerequisite.Previous experience working with senior management and C-Level executivesExcellent negotiation and communication skillsA strong team player whose motivation is derived from providing the best solutionDisplay a high level of  business acumen with a degree level qualificationResults orientated, networker with a competitive and entrepreneurial spiritTrustworthy and operates with a high level of integrity  Full-time Bachelor's Degree Information Technology and Services Sales'],\n",
      "      dtype='object', length=2851)\n"
     ]
    }
   ],
   "source": [
    "new_categorical_columns = [c for c in data_with_balance.columns if data_with_balance[c].dtype.name == 'object']\n",
    "data_nonbinary = pd.get_dummies(data_with_balance[new_categorical_columns])\n",
    "print(data_nonbinary.columns)"
   ]
  },
  {
   "cell_type": "code",
   "execution_count": 25,
   "metadata": {},
   "outputs": [
    {
     "data": {
      "text/plain": [
       "2851"
      ]
     },
     "execution_count": 25,
     "metadata": {},
     "output_type": "execute_result"
    }
   ],
   "source": [
    "len(data_nonbinary.columns)"
   ]
  },
  {
   "cell_type": "markdown",
   "metadata": {},
   "source": [
    "# Нормализация количественных признаков"
   ]
  },
  {
   "cell_type": "code",
   "execution_count": 26,
   "metadata": {},
   "outputs": [
    {
     "data": {
      "text/html": [
       "<div>\n",
       "<style scoped>\n",
       "    .dataframe tbody tr th:only-of-type {\n",
       "        vertical-align: middle;\n",
       "    }\n",
       "\n",
       "    .dataframe tbody tr th {\n",
       "        vertical-align: top;\n",
       "    }\n",
       "\n",
       "    .dataframe thead th {\n",
       "        text-align: right;\n",
       "    }\n",
       "</style>\n",
       "<table border=\"1\" class=\"dataframe\">\n",
       "  <thead>\n",
       "    <tr style=\"text-align: right;\">\n",
       "      <th></th>\n",
       "      <th>telecommuting</th>\n",
       "      <th>has_company_logo</th>\n",
       "      <th>has_questions</th>\n",
       "      <th>fraudulent</th>\n",
       "    </tr>\n",
       "  </thead>\n",
       "  <tbody>\n",
       "    <tr>\n",
       "      <th>16</th>\n",
       "      <td>0</td>\n",
       "      <td>1</td>\n",
       "      <td>0</td>\n",
       "      <td>0</td>\n",
       "    </tr>\n",
       "    <tr>\n",
       "      <th>36</th>\n",
       "      <td>0</td>\n",
       "      <td>1</td>\n",
       "      <td>0</td>\n",
       "      <td>0</td>\n",
       "    </tr>\n",
       "    <tr>\n",
       "      <th>53</th>\n",
       "      <td>0</td>\n",
       "      <td>0</td>\n",
       "      <td>0</td>\n",
       "      <td>0</td>\n",
       "    </tr>\n",
       "    <tr>\n",
       "      <th>59</th>\n",
       "      <td>0</td>\n",
       "      <td>1</td>\n",
       "      <td>1</td>\n",
       "      <td>0</td>\n",
       "    </tr>\n",
       "    <tr>\n",
       "      <th>61</th>\n",
       "      <td>0</td>\n",
       "      <td>1</td>\n",
       "      <td>1</td>\n",
       "      <td>0</td>\n",
       "    </tr>\n",
       "    <tr>\n",
       "      <th>...</th>\n",
       "      <td>...</td>\n",
       "      <td>...</td>\n",
       "      <td>...</td>\n",
       "      <td>...</td>\n",
       "    </tr>\n",
       "    <tr>\n",
       "      <th>17860</th>\n",
       "      <td>0</td>\n",
       "      <td>1</td>\n",
       "      <td>0</td>\n",
       "      <td>0</td>\n",
       "    </tr>\n",
       "    <tr>\n",
       "      <th>17864</th>\n",
       "      <td>0</td>\n",
       "      <td>1</td>\n",
       "      <td>1</td>\n",
       "      <td>0</td>\n",
       "    </tr>\n",
       "    <tr>\n",
       "      <th>17869</th>\n",
       "      <td>0</td>\n",
       "      <td>0</td>\n",
       "      <td>0</td>\n",
       "      <td>0</td>\n",
       "    </tr>\n",
       "    <tr>\n",
       "      <th>17875</th>\n",
       "      <td>0</td>\n",
       "      <td>1</td>\n",
       "      <td>1</td>\n",
       "      <td>0</td>\n",
       "    </tr>\n",
       "    <tr>\n",
       "      <th>17879</th>\n",
       "      <td>0</td>\n",
       "      <td>1</td>\n",
       "      <td>1</td>\n",
       "      <td>0</td>\n",
       "    </tr>\n",
       "  </tbody>\n",
       "</table>\n",
       "<p>2880 rows × 4 columns</p>\n",
       "</div>"
      ],
      "text/plain": [
       "       telecommuting  has_company_logo  has_questions  fraudulent\n",
       "16                 0                 1              0           0\n",
       "36                 0                 1              0           0\n",
       "53                 0                 0              0           0\n",
       "59                 0                 1              1           0\n",
       "61                 0                 1              1           0\n",
       "...              ...               ...            ...         ...\n",
       "17860              0                 1              0           0\n",
       "17864              0                 1              1           0\n",
       "17869              0                 0              0           0\n",
       "17875              0                 1              1           0\n",
       "17879              0                 1              1           0\n",
       "\n",
       "[2880 rows x 4 columns]"
      ]
     },
     "execution_count": 26,
     "metadata": {},
     "output_type": "execute_result"
    }
   ],
   "source": [
    "numerical_columns = [c for c in data_with_balance.columns if data_with_balance[c].dtype.name != 'object']\n",
    "data_numerical = data_with_balance[numerical_columns]\n",
    "data_numerical"
   ]
  },
  {
   "cell_type": "code",
   "execution_count": 27,
   "metadata": {},
   "outputs": [
    {
     "data": {
      "text/html": [
       "<div>\n",
       "<style scoped>\n",
       "    .dataframe tbody tr th:only-of-type {\n",
       "        vertical-align: middle;\n",
       "    }\n",
       "\n",
       "    .dataframe tbody tr th {\n",
       "        vertical-align: top;\n",
       "    }\n",
       "\n",
       "    .dataframe thead th {\n",
       "        text-align: right;\n",
       "    }\n",
       "</style>\n",
       "<table border=\"1\" class=\"dataframe\">\n",
       "  <thead>\n",
       "    <tr style=\"text-align: right;\">\n",
       "      <th></th>\n",
       "      <th>telecommuting</th>\n",
       "      <th>has_company_logo</th>\n",
       "      <th>has_questions</th>\n",
       "      <th>fraudulent</th>\n",
       "    </tr>\n",
       "  </thead>\n",
       "  <tbody>\n",
       "    <tr>\n",
       "      <th>16</th>\n",
       "      <td>-0.231048</td>\n",
       "      <td>0.714177</td>\n",
       "      <td>-0.891132</td>\n",
       "      <td>-0.655622</td>\n",
       "    </tr>\n",
       "    <tr>\n",
       "      <th>36</th>\n",
       "      <td>-0.231048</td>\n",
       "      <td>0.714177</td>\n",
       "      <td>-0.891132</td>\n",
       "      <td>-0.655622</td>\n",
       "    </tr>\n",
       "    <tr>\n",
       "      <th>53</th>\n",
       "      <td>-0.231048</td>\n",
       "      <td>-1.399728</td>\n",
       "      <td>-0.891132</td>\n",
       "      <td>-0.655622</td>\n",
       "    </tr>\n",
       "    <tr>\n",
       "      <th>59</th>\n",
       "      <td>-0.231048</td>\n",
       "      <td>0.714177</td>\n",
       "      <td>1.121778</td>\n",
       "      <td>-0.655622</td>\n",
       "    </tr>\n",
       "    <tr>\n",
       "      <th>61</th>\n",
       "      <td>-0.231048</td>\n",
       "      <td>0.714177</td>\n",
       "      <td>1.121778</td>\n",
       "      <td>-0.655622</td>\n",
       "    </tr>\n",
       "    <tr>\n",
       "      <th>...</th>\n",
       "      <td>...</td>\n",
       "      <td>...</td>\n",
       "      <td>...</td>\n",
       "      <td>...</td>\n",
       "    </tr>\n",
       "    <tr>\n",
       "      <th>17860</th>\n",
       "      <td>-0.231048</td>\n",
       "      <td>0.714177</td>\n",
       "      <td>-0.891132</td>\n",
       "      <td>-0.655622</td>\n",
       "    </tr>\n",
       "    <tr>\n",
       "      <th>17864</th>\n",
       "      <td>-0.231048</td>\n",
       "      <td>0.714177</td>\n",
       "      <td>1.121778</td>\n",
       "      <td>-0.655622</td>\n",
       "    </tr>\n",
       "    <tr>\n",
       "      <th>17869</th>\n",
       "      <td>-0.231048</td>\n",
       "      <td>-1.399728</td>\n",
       "      <td>-0.891132</td>\n",
       "      <td>-0.655622</td>\n",
       "    </tr>\n",
       "    <tr>\n",
       "      <th>17875</th>\n",
       "      <td>-0.231048</td>\n",
       "      <td>0.714177</td>\n",
       "      <td>1.121778</td>\n",
       "      <td>-0.655622</td>\n",
       "    </tr>\n",
       "    <tr>\n",
       "      <th>17879</th>\n",
       "      <td>-0.231048</td>\n",
       "      <td>0.714177</td>\n",
       "      <td>1.121778</td>\n",
       "      <td>-0.655622</td>\n",
       "    </tr>\n",
       "  </tbody>\n",
       "</table>\n",
       "<p>2880 rows × 4 columns</p>\n",
       "</div>"
      ],
      "text/plain": [
       "       telecommuting  has_company_logo  has_questions  fraudulent\n",
       "16         -0.231048          0.714177      -0.891132   -0.655622\n",
       "36         -0.231048          0.714177      -0.891132   -0.655622\n",
       "53         -0.231048         -1.399728      -0.891132   -0.655622\n",
       "59         -0.231048          0.714177       1.121778   -0.655622\n",
       "61         -0.231048          0.714177       1.121778   -0.655622\n",
       "...              ...               ...            ...         ...\n",
       "17860      -0.231048          0.714177      -0.891132   -0.655622\n",
       "17864      -0.231048          0.714177       1.121778   -0.655622\n",
       "17869      -0.231048         -1.399728      -0.891132   -0.655622\n",
       "17875      -0.231048          0.714177       1.121778   -0.655622\n",
       "17879      -0.231048          0.714177       1.121778   -0.655622\n",
       "\n",
       "[2880 rows x 4 columns]"
      ]
     },
     "execution_count": 27,
     "metadata": {},
     "output_type": "execute_result"
    }
   ],
   "source": [
    "data_with_balance[numerical_columns] = (data_with_balance[numerical_columns] - data_with_balance[numerical_columns].mean(axis = 0))/data_with_balance[numerical_columns].std(axis = 0)\n",
    "data_with_balance[numerical_columns]"
   ]
  },
  {
   "cell_type": "code",
   "execution_count": 28,
   "metadata": {},
   "outputs": [
    {
     "name": "stdout",
     "output_type": "stream",
     "text": [
      "(2880, 2855)\n"
     ]
    }
   ],
   "source": [
    "new_data = pd.concat((data_numerical, data_nonbinary), axis = 1)\n",
    "print(new_data.shape)"
   ]
  },
  {
   "cell_type": "markdown",
   "metadata": {},
   "source": [
    "Здесь мы объединили все обработки в одну таблицу"
   ]
  },
  {
   "cell_type": "markdown",
   "metadata": {},
   "source": [
    "# Обучение"
   ]
  },
  {
   "cell_type": "code",
   "execution_count": 29,
   "metadata": {},
   "outputs": [
    {
     "name": "stdout",
     "output_type": "stream",
     "text": [
      "2016 864\n"
     ]
    }
   ],
   "source": [
    "X = new_data.drop(['fraudulent'], axis = 1)\n",
    "y = new_data['fraudulent']\n",
    "\n",
    "from sklearn.model_selection import train_test_split\n",
    "X_train, X_test, y_train, y_test = train_test_split(X, y, test_size = 0.3, random_state = 42)\n",
    "\n",
    "N_train, _ = X_train.shape \n",
    "N_test,  _ = X_test.shape\n",
    "\n",
    "print(N_train, N_test)"
   ]
  },
  {
   "cell_type": "code",
   "execution_count": 31,
   "metadata": {},
   "outputs": [
    {
     "name": "stdout",
     "output_type": "stream",
     "text": [
      "0.22220333973695872 20\n"
     ]
    }
   ],
   "source": [
    "from sklearn.neighbors import KNeighborsClassifier\n",
    "from sklearn.model_selection import GridSearchCV\n",
    "nnb = [1, 2, 3, 4, 5, 6, 7, 8, 9, 10, 11, 12, 13, 14, 15, 16, 17, 18,19, 20, 25, 35, 45, 55]\n",
    "knn = KNeighborsClassifier()\n",
    "grid = GridSearchCV(knn, param_grid = {'n_neighbors': nnb}, cv=10)\n",
    "grid.fit(X_train.values, y_train)\n",
    "\n",
    "best_cv_err = 1 - grid.best_score_\n",
    "best_n_neighbors = grid.best_estimator_.n_neighbors\n",
    "print(best_cv_err, best_n_neighbors)"
   ]
  },
  {
   "cell_type": "code",
   "execution_count": 34,
   "metadata": {},
   "outputs": [
    {
     "name": "stdout",
     "output_type": "stream",
     "text": [
      "0.2222222222222222 0.22800925925925927\n"
     ]
    }
   ],
   "source": [
    "knn = KNeighborsClassifier(n_neighbors = best_n_neighbors).fit(X_train.values, y_train)\n",
    "\n",
    "err_train = np.mean(y_train != knn.predict(X_train.values))\n",
    "err_test  = np.mean(y_test  != knn.predict(X_test.values))\n",
    "\n",
    "print(err_train, err_test)"
   ]
  },
  {
   "cell_type": "markdown",
   "metadata": {},
   "source": [
    "Какой же вывод можно сделать при этом обучении? При оптимальном количестве соседей 20 ошибка при тестовой выборке выше, а значит наблюдается переобучение"
   ]
  },
  {
   "cell_type": "code",
   "execution_count": 35,
   "metadata": {
    "scrolled": false
   },
   "outputs": [
    {
     "name": "stderr",
     "output_type": "stream",
     "text": [
      "/home/ekaterina/.local/lib/python3.8/site-packages/sklearn/utils/deprecation.py:87: FutureWarning: Function plot_confusion_matrix is deprecated; Function `plot_confusion_matrix` is deprecated in 1.0 and will be removed in 1.2. Use one of the class methods: ConfusionMatrixDisplay.from_predictions or ConfusionMatrixDisplay.from_estimator.\n",
      "  warnings.warn(msg, category=FutureWarning)\n"
     ]
    },
    {
     "data": {
      "image/png": "[encoded data removed]",
      "text/plain": [
       "<Figure size 432x288 with 2 Axes>"
      ]
     },
     "metadata": {
      "needs_background": "light"
     },
     "output_type": "display_data"
    }
   ],
   "source": [
    "from sklearn.metrics import plot_confusion_matrix\n",
    "plot_confusion_matrix(knn, X_test.values, y_test, cmap=plt.cm.Blues)\n",
    "pass"
   ]
  },
  {
   "cell_type": "markdown",
   "metadata": {},
   "source": [
    "# Полносвязные нейронные сети"
   ]
  },
  {
   "cell_type": "code",
   "execution_count": 129,
   "metadata": {},
   "outputs": [],
   "source": [
    "from sklearn.neural_network import MLPClassifier\n",
    "hidden_layer = np.arange(1, 25)\n",
    "test_err = []\n",
    "train_err = []\n",
    "for neu in hidden_layer:\n",
    "    mlp_model = MLPClassifier(hidden_layer_sizes = (neu, ), random_state = 42, max_iter = 1000)\n",
    "    mlp_model.fit(X_train, y_train)\n",
    "\n",
    "    y_train_pred = mlp_model.predict(X_train)\n",
    "    y_test_pred = mlp_model.predict(X_test)\n",
    "    train_err.append(np.mean(y_train != y_train_pred))\n",
    "    test_err.append(np.mean(y_test != y_test_pred))"
   ]
  },
  {
   "cell_type": "code",
   "execution_count": 130,
   "metadata": {},
   "outputs": [
    {
     "data": {
      "image/png": "[encoded data removed]",
      "text/plain": [
       "<Figure size 432x288 with 1 Axes>"
      ]
     },
     "metadata": {
      "needs_background": "light"
     },
     "output_type": "display_data"
    }
   ],
   "source": [
    "plt.plot(hidden_layer, train_err, 'r-o', label = 'train_line')\n",
    "plt.plot(hidden_layer, test_err, 'b-o', label = 'test_line')\n",
    "plt.title('Error vs Count of neurons')\n",
    "plt.xlabel('count of neurons')\n",
    "plt.ylabel('error')\n",
    "plt.legend()\n",
    "pass"
   ]
  },
  {
   "cell_type": "code",
   "execution_count": 131,
   "metadata": {},
   "outputs": [
    {
     "name": "stdout",
     "output_type": "stream",
     "text": [
      "0.0 0.2349537037037037\n"
     ]
    }
   ],
   "source": [
    "min_train_err = np.min(train_err)\n",
    "min_test_err = np.min(test_err)\n",
    "print(min_train_err, min_test_err)"
   ]
  },
  {
   "cell_type": "code",
   "execution_count": 132,
   "metadata": {},
   "outputs": [
    {
     "name": "stdout",
     "output_type": "stream",
     "text": [
      "[ 1  2  3  4  5  6  7  8  9 10 11 12 13 14 15 16 17 18 19 20 21 22 23 24]\n"
     ]
    }
   ],
   "source": [
    "neu_opt = hidden_layer[test_err == min_test_err]\n",
    "print(neu_opt)"
   ]
  },
  {
   "cell_type": "code",
   "execution_count": 133,
   "metadata": {},
   "outputs": [],
   "source": [
    "neu_opt = neu_opt[0]"
   ]
  },
  {
   "cell_type": "code",
   "execution_count": 135,
   "metadata": {},
   "outputs": [],
   "source": [
    "from sklearn.metrics import accuracy_score\n",
    "\n",
    "alpha_arr = np.logspace(-3, 2, 21)\n",
    "test_err = []\n",
    "train_err = []\n",
    "train_acc = []\n",
    "test_acc = []\n",
    "\n",
    "for alpha in alpha_arr:\n",
    "    mlp_model = MLPClassifier(alpha = alpha, hidden_layer_sizes = (neu_opt,), \n",
    "                              solver = 'lbfgs', activation = 'logistic', max_iter=1000, random_state = 42)\n",
    "    mlp_model.fit(X_train, y_train)\n",
    "\n",
    "    y_train_pred = mlp_model.predict(X_train)\n",
    "    y_test_pred = mlp_model.predict(X_test)\n",
    "    \n",
    "    train_err.append(np.mean(y_train != y_train_pred))\n",
    "    test_err.append(np.mean(y_test != y_test_pred))\n",
    "    train_acc.append(accuracy_score(y_train, y_train_pred))\n",
    "    test_acc.append(accuracy_score(y_test, y_test_pred))"
   ]
  },
  {
   "cell_type": "code",
   "execution_count": 136,
   "metadata": {},
   "outputs": [
    {
     "data": {
      "image/png": "[encoded data removed]",
      "text/plain": [
       "<Figure size 432x288 with 1 Axes>"
      ]
     },
     "metadata": {
      "needs_background": "light"
     },
     "output_type": "display_data"
    }
   ],
   "source": [
    "plt.semilogx(alpha_arr, train_err, 'b-o', label = 'train')\n",
    "plt.semilogx(alpha_arr, test_err, 'r-o', label = 'test')\n",
    "plt.xlim([np.min(alpha_arr), np.max(alpha_arr)])\n",
    "plt.title('Error vs. alpha')\n",
    "plt.xlabel('alpha')\n",
    "plt.ylabel('error')\n",
    "plt.legend()\n",
    "pass"
   ]
  },
  {
   "cell_type": "code",
   "execution_count": 137,
   "metadata": {},
   "outputs": [
    {
     "name": "stdout",
     "output_type": "stream",
     "text": [
      "0.0 0.2349537037037037\n"
     ]
    }
   ],
   "source": [
    "min_train_err = np.min(train_err)\n",
    "min_test_err = np.min(test_err)\n",
    "print(min_train_err, min_test_err)"
   ]
  },
  {
   "cell_type": "code",
   "execution_count": 138,
   "metadata": {},
   "outputs": [
    {
     "name": "stdout",
     "output_type": "stream",
     "text": [
      "[0.00316228 0.00562341 0.01       0.01778279 0.03162278 0.05623413\n",
      " 0.1        0.17782794 0.31622777 0.56234133 1.         1.77827941]\n"
     ]
    }
   ],
   "source": [
    "alpha_opt = alpha_arr[test_err == min_test_err]\n",
    "print(alpha_opt)"
   ]
  },
  {
   "cell_type": "code",
   "execution_count": 139,
   "metadata": {},
   "outputs": [],
   "source": [
    "alpha_opt = alpha_opt[0]"
   ]
  },
  {
   "cell_type": "code",
   "execution_count": 141,
   "metadata": {},
   "outputs": [
    {
     "name": "stdout",
     "output_type": "stream",
     "text": [
      "0.0\n",
      "0.2349537037037037\n"
     ]
    }
   ],
   "source": [
    "mlp_model = MLPClassifier(alpha = alpha_opt, hidden_layer_sizes = (neu_opt,),\n",
    "                          solver = 'lbfgs', activation = 'logistic', random_state = 42, max_iter = 10000)\n",
    "mlp_model.fit(X_train, y_train)\n",
    "\n",
    "y_train_pred = mlp_model.predict(X_train)\n",
    "y_test_pred = mlp_model.predict(X_test)\n",
    "print(np.mean(y_train != y_train_pred))\n",
    "print(np.mean(y_test != y_test_pred))"
   ]
  },
  {
   "cell_type": "code",
   "execution_count": 142,
   "metadata": {},
   "outputs": [
    {
     "name": "stderr",
     "output_type": "stream",
     "text": [
      "/home/ekaterina/.local/lib/python3.8/site-packages/sklearn/utils/deprecation.py:87: FutureWarning: Function plot_confusion_matrix is deprecated; Function `plot_confusion_matrix` is deprecated in 1.0 and will be removed in 1.2. Use one of the class methods: ConfusionMatrixDisplay.from_predictions or ConfusionMatrixDisplay.from_estimator.\n",
      "  warnings.warn(msg, category=FutureWarning)\n"
     ]
    },
    {
     "data": {
      "image/png": "[encoded data removed]",
      "text/plain": [
       "<Figure size 432x288 with 2 Axes>"
      ]
     },
     "metadata": {
      "needs_background": "light"
     },
     "output_type": "display_data"
    }
   ],
   "source": [
    "from sklearn.metrics import plot_confusion_matrix\n",
    "plot_confusion_matrix(mlp_model, X_test, y_test, cmap=plt.cm.Blues)\n",
    "pass"
   ]
  },
  {
   "cell_type": "markdown",
   "metadata": {},
   "source": [
    "Здесь можно заметить, что достаточно хорошо определяется настоящее предложение о работе, недели фейковая. При том также обнаружение фейковых предложений больше, чем ложно присвоенных.\n",
    "Также, данный метод хуже определяет настоящее предложение о работе, и меньше причисляет к ложно-фейковому, нежели метод к-ближайших соседей"
   ]
  },
  {
   "cell_type": "markdown",
   "metadata": {},
   "source": [
    "# Вывод по полносвязной нейронной сети\n",
    "\n",
    "В первом варианте я варьировала количество нейронов, из графиков видно, что наблюдается переобучение, но при этом ошибка не зависит от самого количества нейронов.\n",
    "Во втором варианте я варьировала альфа, здесь появилось несколько оптимальных значений. И также наблюдается переобучение.\n",
    "При том если сравнивать метод к ближайших соседей, то здесь ошибка получилась меньше."
   ]
  },
  {
   "cell_type": "markdown",
   "metadata": {},
   "source": [
    "# Деревья решений"
   ]
  },
  {
   "cell_type": "code",
   "execution_count": 42,
   "metadata": {},
   "outputs": [],
   "source": [
    "from sklearn.tree import DecisionTreeClassifier\n",
    "\n",
    "depth = np.arange(1, 30)\n",
    "test_err = []\n",
    "train_err = []\n",
    "hidden_layer = np.arange(1, 30)\n",
    "for dep in depth:\n",
    "    tree_model = DecisionTreeClassifier(max_depth = dep)\n",
    "    tree_model.fit(X_train.values, y_train)\n",
    "\n",
    "    y_train_pred = tree_model.predict(X_train.values)\n",
    "    y_test_pred = tree_model.predict(X_test.values)\n",
    "    train_err.append(np.mean(y_train != y_train_pred))\n",
    "    test_err.append(np.mean(y_test != y_test_pred))"
   ]
  },
  {
   "cell_type": "code",
   "execution_count": 43,
   "metadata": {},
   "outputs": [
    {
     "data": {
      "image/png": "[encoded data removed]",
      "text/plain": [
       "<Figure size 432x288 with 1 Axes>"
      ]
     },
     "metadata": {
      "needs_background": "light"
     },
     "output_type": "display_data"
    }
   ],
   "source": [
    "plt.plot(hidden_layer, train_err, 'r-o', label = 'train')\n",
    "plt.plot(hidden_layer, test_err, 'b-o', label = 'test')\n",
    "plt.title('Error vs. depth')\n",
    "plt.xlabel('depth')\n",
    "plt.ylabel('error')\n",
    "plt.legend()\n",
    "pass"
   ]
  },
  {
   "cell_type": "code",
   "execution_count": 45,
   "metadata": {},
   "outputs": [
    {
     "name": "stdout",
     "output_type": "stream",
     "text": [
      "0.17311507936507936 0.22685185185185186\n"
     ]
    }
   ],
   "source": [
    "min_train_err = np.min(train_err)\n",
    "min_test_err = np.min(test_err)\n",
    "print(min_train_err, min_test_err)"
   ]
  },
  {
   "cell_type": "code",
   "execution_count": 46,
   "metadata": {},
   "outputs": [
    {
     "name": "stdout",
     "output_type": "stream",
     "text": [
      "[22 23]\n"
     ]
    }
   ],
   "source": [
    "dep_opt = depth[test_err == min_test_err]\n",
    "print(dep_opt)"
   ]
  },
  {
   "cell_type": "markdown",
   "metadata": {},
   "source": [
    "С глубиной дерева 22 или 23 наименьшее значение ошибки получилось 0.22. И также наблюдается переобучение."
   ]
  },
  {
   "cell_type": "markdown",
   "metadata": {},
   "source": [
    "# Машина опорных векторов"
   ]
  },
  {
   "cell_type": "code",
   "execution_count": 47,
   "metadata": {},
   "outputs": [
    {
     "data": {
      "text/plain": [
       "(0.18799603174603174, 0.22800925925925927)"
      ]
     },
     "execution_count": 47,
     "metadata": {},
     "output_type": "execute_result"
    }
   ],
   "source": [
    "from sklearn.svm import SVC\n",
    "model = SVC()\n",
    "model.fit(X_train.values, y_train)\n",
    "y_train_pred = model.predict(X_train.values)\n",
    "y_test_pred = model.predict(X_test.values)\n",
    "np.mean(y_train != y_train_pred), np.mean(y_test != y_test_pred)"
   ]
  },
  {
   "cell_type": "code",
   "execution_count": 49,
   "metadata": {},
   "outputs": [
    {
     "data": {
      "text/plain": [
       "(0.0, 0.23726851851851852)"
      ]
     },
     "execution_count": 49,
     "metadata": {},
     "output_type": "execute_result"
    }
   ],
   "source": [
    "model = SVC(kernel = 'linear')\n",
    "model.fit(X_train.values, y_train)\n",
    "y_train_pred = model.predict(X_train.values)\n",
    "y_test_pred = model.predict(X_test.values)\n",
    "np.mean(y_train != y_train_pred), np.mean(y_test != y_test_pred)"
   ]
  },
  {
   "cell_type": "code",
   "execution_count": 50,
   "metadata": {},
   "outputs": [
    {
     "data": {
      "text/plain": [
       "(0.12946428571428573, 0.22800925925925927)"
      ]
     },
     "execution_count": 50,
     "metadata": {},
     "output_type": "execute_result"
    }
   ],
   "source": [
    "model = SVC(kernel = 'poly')\n",
    "model.fit(X_train.values, y_train)\n",
    "y_train_pred = model.predict(X_train.values)\n",
    "y_test_pred = model.predict(X_test.values)\n",
    "np.mean(y_train != y_train_pred), np.mean(y_test != y_test_pred)"
   ]
  },
  {
   "cell_type": "markdown",
   "metadata": {},
   "source": [
    "Минимальное значение ошибки с данным классификатором составило 0.228"
   ]
  },
  {
   "cell_type": "markdown",
   "metadata": {},
   "source": [
    "# Классификатор Байеса"
   ]
  },
  {
   "cell_type": "code",
   "execution_count": 58,
   "metadata": {},
   "outputs": [
    {
     "name": "stdout",
     "output_type": "stream",
     "text": [
      "0.12450396825396826 0.2997685185185185\n"
     ]
    }
   ],
   "source": [
    "from sklearn.naive_bayes import MultinomialNB\n",
    "mnb = MultinomialNB()\n",
    "mnb.fit(X_train.values, y_train)\n",
    "\n",
    "test_er =(1 - mnb.score(X_test.values, y_test))\n",
    "train_er =(1- mnb.score(X_train.values, y_train))\n",
    "print(train_er, test_er)"
   ]
  },
  {
   "cell_type": "markdown",
   "metadata": {},
   "source": [
    "Также наблюдается переобучение."
   ]
  },
  {
   "cell_type": "markdown",
   "metadata": {},
   "source": [
    "# Общие выводы.\n",
    "С применением любого классификатора наблюдается переобучение. Минимальная ошибка была получена при методе Деревья решений с результатом 0.226. Худший - классификатор Байеса с результатом 0.29."
   ]
  }
 ],
 "metadata": {
  "kernelspec": {
   "display_name": "Python 3",
   "language": "python",
   "name": "python3"
  },
  "language_info": {
   "codemirror_mode": {
    "name": "ipython",
    "version": 3
   },
   "file_extension": ".py",
   "mimetype": "text/x-python",
   "name": "python",
   "nbconvert_exporter": "python",
   "pygments_lexer": "ipython3",
   "version": "3.8.10"
  }
 },
 "nbformat": 4,
 "nbformat_minor": 5
}
